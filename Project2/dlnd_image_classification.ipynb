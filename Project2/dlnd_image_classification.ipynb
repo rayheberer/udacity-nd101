{
 "cells": [
  {
   "cell_type": "markdown",
   "metadata": {
    "collapsed": true
   },
   "source": [
    "# Image Classification\n",
    "In this project, you'll classify images from the [CIFAR-10 dataset](https://www.cs.toronto.edu/~kriz/cifar.html).  The dataset consists of airplanes, dogs, cats, and other objects. You'll preprocess the images, then train a convolutional neural network on all the samples. The images need to be normalized and the labels need to be one-hot encoded.  You'll get to apply what you learned and build a convolutional, max pooling, dropout, and fully connected layers.  At the end, you'll get to see your neural network's predictions on the sample images.\n",
    "## Get the Data\n",
    "Run the following cell to download the [CIFAR-10 dataset for python](https://www.cs.toronto.edu/~kriz/cifar-10-python.tar.gz)."
   ]
  },
  {
   "cell_type": "code",
   "execution_count": 6,
   "metadata": {},
   "outputs": [
    {
     "name": "stdout",
     "output_type": "stream",
     "text": [
      "All files found!\n"
     ]
    }
   ],
   "source": [
    "\"\"\"\n",
    "DON'T MODIFY ANYTHING IN THIS CELL THAT IS BELOW THIS LINE\n",
    "\"\"\"\n",
    "from urllib.request import urlretrieve\n",
    "from os.path import isfile, isdir\n",
    "from tqdm import tqdm\n",
    "import problem_unittests as tests\n",
    "import tarfile\n",
    "\n",
    "cifar10_dataset_folder_path = 'cifar-10-batches-py'\n",
    "\n",
    "# Use Floyd's cifar-10 dataset if present\n",
    "floyd_cifar10_location = '/input/cifar-10/python.tar.gz'\n",
    "if isfile(floyd_cifar10_location):\n",
    "    tar_gz_path = floyd_cifar10_location\n",
    "else:\n",
    "    tar_gz_path = 'cifar-10-python.tar.gz'\n",
    "\n",
    "class DLProgress(tqdm):\n",
    "    last_block = 0\n",
    "\n",
    "    def hook(self, block_num=1, block_size=1, total_size=None):\n",
    "        self.total = total_size\n",
    "        self.update((block_num - self.last_block) * block_size)\n",
    "        self.last_block = block_num\n",
    "\n",
    "if not isfile(tar_gz_path):\n",
    "    with DLProgress(unit='B', unit_scale=True, miniters=1, desc='CIFAR-10 Dataset') as pbar:\n",
    "        urlretrieve(\n",
    "            'https://www.cs.toronto.edu/~kriz/cifar-10-python.tar.gz',\n",
    "            tar_gz_path,\n",
    "            pbar.hook)\n",
    "\n",
    "if not isdir(cifar10_dataset_folder_path):\n",
    "    with tarfile.open(tar_gz_path) as tar:\n",
    "        tar.extractall()\n",
    "        tar.close()\n",
    "\n",
    "\n",
    "tests.test_folder_path(cifar10_dataset_folder_path)"
   ]
  },
  {
   "cell_type": "markdown",
   "metadata": {},
   "source": [
    "## Explore the Data\n",
    "The dataset is broken into batches to prevent your machine from running out of memory.  The CIFAR-10 dataset consists of 5 batches, named `data_batch_1`, `data_batch_2`, etc.. Each batch contains the labels and images that are one of the following:\n",
    "* airplane\n",
    "* automobile\n",
    "* bird\n",
    "* cat\n",
    "* deer\n",
    "* dog\n",
    "* frog\n",
    "* horse\n",
    "* ship\n",
    "* truck\n",
    "\n",
    "Understanding a dataset is part of making predictions on the data.  Play around with the code cell below by changing the `batch_id` and `sample_id`. The `batch_id` is the id for a batch (1-5). The `sample_id` is the id for a image and label pair in the batch.\n",
    "\n",
    "Ask yourself \"What are all possible labels?\", \"What is the range of values for the image data?\", \"Are the labels in order or random?\".  Answers to questions like these will help you preprocess the data and end up with better predictions."
   ]
  },
  {
   "cell_type": "code",
   "execution_count": 7,
   "metadata": {},
   "outputs": [
    {
     "name": "stdout",
     "output_type": "stream",
     "text": [
      "\n",
      "Stats of batch 1:\n",
      "Samples: 10000\n",
      "Label Counts: {0: 1005, 1: 974, 2: 1032, 3: 1016, 4: 999, 5: 937, 6: 1030, 7: 1001, 8: 1025, 9: 981}\n",
      "First 20 Labels: [6, 9, 9, 4, 1, 1, 2, 7, 8, 3, 4, 7, 7, 2, 9, 9, 9, 3, 2, 6]\n",
      "\n",
      "Example of Image 5:\n",
      "Image - Min Value: 0 Max Value: 252\n",
      "Image - Shape: (32, 32, 3)\n",
      "Label - Label Id: 1 Name: automobile\n"
     ]
    },
    {
     "data": {
      "image/png": "[encoded data removed]",
      "text/plain": [
       "<matplotlib.figure.Figure at 0x1913e266cc0>"
      ]
     },
     "metadata": {
      "image/png": {
       "height": 250,
       "width": 253
      }
     },
     "output_type": "display_data"
    }
   ],
   "source": [
    "%matplotlib inline\n",
    "%config InlineBackend.figure_format = 'retina'\n",
    "\n",
    "import helper\n",
    "import numpy as np\n",
    "\n",
    "# Explore the dataset\n",
    "batch_id = 1\n",
    "sample_id = 5\n",
    "helper.display_stats(cifar10_dataset_folder_path, batch_id, sample_id)"
   ]
  },
  {
   "cell_type": "markdown",
   "metadata": {},
   "source": [
    "## Implement Preprocess Functions\n",
    "### Normalize\n",
    "In the cell below, implement the `normalize` function to take in image data, `x`, and return it as a normalized Numpy array. The values should be in the range of 0 to 1, inclusive.  The return object should be the same shape as `x`."
   ]
  },
  {
   "cell_type": "code",
   "execution_count": 111,
   "metadata": {},
   "outputs": [
    {
     "name": "stdout",
     "output_type": "stream",
     "text": [
      "Tests Passed\n"
     ]
    }
   ],
   "source": [
    "def normalize(x):\n",
    "    \"\"\"\n",
    "    Normalize a list of sample image data in the range of 0 to 1\n",
    "    : x: List of image data.  The image shape is (32, 32, 3)\n",
    "    : return: Numpy array of normalize data\n",
    "    \"\"\"\n",
    "    normalized = []\n",
    "    for image in x:\n",
    "        normalized.append(image / 255)\n",
    "    return np.array(normalized)\n",
    "\n",
    "\n",
    "\"\"\"\n",
    "DON'T MODIFY ANYTHING IN THIS CELL THAT IS BELOW THIS LINE\n",
    "\"\"\"\n",
    "tests.test_normalize(normalize)"
   ]
  },
  {
   "cell_type": "markdown",
   "metadata": {},
   "source": [
    "### One-hot encode\n",
    "Just like the previous code cell, you'll be implementing a function for preprocessing.  This time, you'll implement the `one_hot_encode` function. The input, `x`, are a list of labels.  Implement the function to return the list of labels as One-Hot encoded Numpy array.  The possible values for labels are 0 to 9. The one-hot encoding function should return the same encoding for each value between each call to `one_hot_encode`.  Make sure to save the map of encodings outside the function.\n",
    "\n",
    "Hint: Don't reinvent the wheel."
   ]
  },
  {
   "cell_type": "code",
   "execution_count": 10,
   "metadata": {},
   "outputs": [
    {
     "name": "stdout",
     "output_type": "stream",
     "text": [
      "Tests Passed\n"
     ]
    }
   ],
   "source": [
    "def one_hot_encode(x):\n",
    "    \"\"\"\n",
    "    One hot encode a list of sample labels. Return a one-hot encoded vector for each label.\n",
    "    : x: List of sample Labels\n",
    "    : return: Numpy array of one-hot encoded labels\n",
    "    \"\"\"\n",
    "    one_hot = np.zeros((len(x), 10))\n",
    "    for i in range(len(x)):\n",
    "        one_hot[i][x[i]] = 1\n",
    "    return one_hot\n",
    "\n",
    "\n",
    "\"\"\"\n",
    "DON'T MODIFY ANYTHING IN THIS CELL THAT IS BELOW THIS LINE\n",
    "\"\"\"\n",
    "tests.test_one_hot_encode(one_hot_encode)"
   ]
  },
  {
   "cell_type": "markdown",
   "metadata": {},
   "source": [
    "### Randomize Data\n",
    "As you saw from exploring the data above, the order of the samples are randomized.  It doesn't hurt to randomize it again, but you don't need to for this dataset."
   ]
  },
  {
   "cell_type": "markdown",
   "metadata": {},
   "source": [
    "## Preprocess all the data and save it\n",
    "Running the code cell below will preprocess all the CIFAR-10 data and save it to file. The code below also uses 10% of the training data for validation."
   ]
  },
  {
   "cell_type": "code",
   "execution_count": 11,
   "metadata": {
    "collapsed": true
   },
   "outputs": [],
   "source": [
    "\"\"\"\n",
    "DON'T MODIFY ANYTHING IN THIS CELL\n",
    "\"\"\"\n",
    "# Preprocess Training, Validation, and Testing Data\n",
    "helper.preprocess_and_save_data(cifar10_dataset_folder_path, normalize, one_hot_encode)"
   ]
  },
  {
   "cell_type": "markdown",
   "metadata": {},
   "source": [
    "# Check Point\n",
    "This is your first checkpoint.  If you ever decide to come back to this notebook or have to restart the notebook, you can start from here.  The preprocessed data has been saved to disk."
   ]
  },
  {
   "cell_type": "code",
   "execution_count": 12,
   "metadata": {
    "collapsed": true
   },
   "outputs": [],
   "source": [
    "\"\"\"\n",
    "DON'T MODIFY ANYTHING IN THIS CELL\n",
    "\"\"\"\n",
    "import pickle\n",
    "import problem_unittests as tests\n",
    "import helper\n",
    "\n",
    "# Load the Preprocessed Validation data\n",
    "valid_features, valid_labels = pickle.load(open('preprocess_validation.p', mode='rb'))"
   ]
  },
  {
   "cell_type": "markdown",
   "metadata": {},
   "source": [
    "## Build the network\n",
    "For the neural network, you'll build each layer into a function.  Most of the code you've seen has been outside of functions. To test your code more thoroughly, we require that you put each layer in a function.  This allows us to give you better feedback and test for simple mistakes using our unittests before you submit your project.\n",
    "\n",
    ">**Note:** If you're finding it hard to dedicate enough time for this course each week, we've provided a small shortcut to this part of the project. In the next couple of problems, you'll have the option to use classes from the [TensorFlow Layers](https://www.tensorflow.org/api_docs/python/tf/layers) or [TensorFlow Layers (contrib)](https://www.tensorflow.org/api_guides/python/contrib.layers) packages to build each layer, except the layers you build in the \"Convolutional and Max Pooling Layer\" section.  TF Layers is similar to Keras's and TFLearn's abstraction to layers, so it's easy to pickup.\n",
    "\n",
    ">However, if you would like to get the most out of this course, try to solve all the problems _without_ using anything from the TF Layers packages. You **can** still use classes from other packages that happen to have the same name as ones you find in TF Layers! For example, instead of using the TF Layers version of the `conv2d` class, [tf.layers.conv2d](https://www.tensorflow.org/api_docs/python/tf/layers/conv2d), you would want to use the TF Neural Network version of `conv2d`, [tf.nn.conv2d](https://www.tensorflow.org/api_docs/python/tf/nn/conv2d). \n",
    "\n",
    "Let's begin!\n",
    "\n",
    "### Input\n",
    "The neural network needs to read the image data, one-hot encoded labels, and dropout keep probability. Implement the following functions\n",
    "* Implement `neural_net_image_input`\n",
    " * Return a [TF Placeholder](https://www.tensorflow.org/api_docs/python/tf/placeholder)\n",
    " * Set the shape using `image_shape` with batch size set to `None`.\n",
    " * Name the TensorFlow placeholder \"x\" using the TensorFlow `name` parameter in the [TF Placeholder](https://www.tensorflow.org/api_docs/python/tf/placeholder).\n",
    "* Implement `neural_net_label_input`\n",
    " * Return a [TF Placeholder](https://www.tensorflow.org/api_docs/python/tf/placeholder)\n",
    " * Set the shape using `n_classes` with batch size set to `None`.\n",
    " * Name the TensorFlow placeholder \"y\" using the TensorFlow `name` parameter in the [TF Placeholder](https://www.tensorflow.org/api_docs/python/tf/placeholder).\n",
    "* Implement `neural_net_keep_prob_input`\n",
    " * Return a [TF Placeholder](https://www.tensorflow.org/api_docs/python/tf/placeholder) for dropout keep probability.\n",
    " * Name the TensorFlow placeholder \"keep_prob\" using the TensorFlow `name` parameter in the [TF Placeholder](https://www.tensorflow.org/api_docs/python/tf/placeholder).\n",
    "\n",
    "These names will be used at the end of the project to load your saved model.\n",
    "\n",
    "Note: `None` for shapes in TensorFlow allow for a dynamic size."
   ]
  },
  {
   "cell_type": "code",
   "execution_count": 14,
   "metadata": {},
   "outputs": [
    {
     "name": "stdout",
     "output_type": "stream",
     "text": [
      "Image Input Tests Passed.\n",
      "Label Input Tests Passed.\n",
      "Keep Prob Tests Passed.\n"
     ]
    }
   ],
   "source": [
    "import tensorflow as tf\n",
    "\n",
    "def neural_net_image_input(image_shape):\n",
    "    \"\"\"\n",
    "    Return a Tensor for a batch of image input\n",
    "    : image_shape: Shape of the images\n",
    "    : return: Tensor for image input.\n",
    "    \"\"\"\n",
    "    return tf.placeholder(tf.float32, shape=(None, image_shape[0], image_shape[1], image_shape[2]), name=\"x\")\n",
    "\n",
    "\n",
    "def neural_net_label_input(n_classes):\n",
    "    \"\"\"\n",
    "    Return a Tensor for a batch of label input\n",
    "    : n_classes: Number of classes\n",
    "    : return: Tensor for label input.\n",
    "    \"\"\"\n",
    "    # TODO: Implement Function\n",
    "    return tf.placeholder(tf.int32, shape=(None, n_classes), name=\"y\")\n",
    "\n",
    "\n",
    "def neural_net_keep_prob_input():\n",
    "    \"\"\"\n",
    "    Return a Tensor for keep probability\n",
    "    : return: Tensor for keep probability.\n",
    "    \"\"\"\n",
    "    # TODO: Implement Function\n",
    "    return tf.placeholder(tf.float32, name=\"keep_prob\")\n",
    "\n",
    "\n",
    "\"\"\"\n",
    "DON'T MODIFY ANYTHING IN THIS CELL THAT IS BELOW THIS LINE\n",
    "\"\"\"\n",
    "tf.reset_default_graph()\n",
    "tests.test_nn_image_inputs(neural_net_image_input)\n",
    "tests.test_nn_label_inputs(neural_net_label_input)\n",
    "tests.test_nn_keep_prob_inputs(neural_net_keep_prob_input)"
   ]
  },
  {
   "cell_type": "markdown",
   "metadata": {},
   "source": [
    "### Convolution and Max Pooling Layer\n",
    "Convolution layers have a lot of success with images. For this code cell, you should implement the function `conv2d_maxpool` to apply convolution then max pooling:\n",
    "* Create the weight and bias using `conv_ksize`, `conv_num_outputs` and the shape of `x_tensor`.\n",
    "* Apply a convolution to `x_tensor` using weight and `conv_strides`.\n",
    " * We recommend you use same padding, but you're welcome to use any padding.\n",
    "* Add bias\n",
    "* Add a nonlinear activation to the convolution.\n",
    "* Apply Max Pooling using `pool_ksize` and `pool_strides`.\n",
    " * We recommend you use same padding, but you're welcome to use any padding.\n",
    "\n",
    "**Note:** You **can't** use [TensorFlow Layers](https://www.tensorflow.org/api_docs/python/tf/layers) or [TensorFlow Layers (contrib)](https://www.tensorflow.org/api_guides/python/contrib.layers) for **this** layer, but you can still use TensorFlow's [Neural Network](https://www.tensorflow.org/api_docs/python/tf/nn) package. You may still use the shortcut option for all the **other** layers."
   ]
  },
  {
   "cell_type": "code",
   "execution_count": 117,
   "metadata": {},
   "outputs": [
    {
     "name": "stdout",
     "output_type": "stream",
     "text": [
      "Tests Passed\n"
     ]
    }
   ],
   "source": [
    "def conv2d_maxpool(x_tensor, conv_num_outputs, conv_ksize, conv_strides, pool_ksize, pool_strides):\n",
    "    \"\"\"\n",
    "    Apply convolution then max pooling to x_tensor\n",
    "    :param x_tensor: TensorFlow Tensor\n",
    "    :param conv_num_outputs: Number of outputs for the convolutional layer\n",
    "    :param conv_ksize: kernal size 2-D Tuple for the convolutional layer\n",
    "    :param conv_strides: Stride 2-D Tuple for convolution\n",
    "    :param pool_ksize: kernal size 2-D Tuple for pool\n",
    "    :param pool_strides: Stride 2-D Tuple for pool\n",
    "    : return: A tensor that represents convolution and max pooling of x_tensor\n",
    "    \"\"\"\n",
    "    # TODO: Implement Function\n",
    "    x_tensor = tf.cast(x_tensor, tf.float32)\n",
    "    filter_W = tf.Variable(tf.truncated_normal((conv_ksize[0], conv_ksize[1], int(x_tensor.shape[3]), conv_num_outputs),\n",
    "                                              stddev=0.1))\n",
    "    filter_b = tf.Variable(tf.zeros(conv_num_outputs))\n",
    "    \n",
    "    conv_strides = (1, conv_strides[0], conv_strides[1], 1)\n",
    "    pool_strides = (1, pool_strides[0], pool_strides[1], 1)\n",
    "    pool_ksize = (1, pool_ksize[0], pool_ksize[1], 1)\n",
    "    \n",
    "    conv_layer = tf.nn.conv2d(x_tensor, filter_W, conv_strides, \"SAME\") + filter_b\n",
    "    pool_layer = tf.nn.max_pool(conv_layer, pool_ksize, pool_strides, \"SAME\")\n",
    "    \n",
    "    return pool_layer\n",
    "\n",
    "\n",
    "\"\"\"\n",
    "DON'T MODIFY ANYTHING IN THIS CELL THAT IS BELOW THIS LINE\n",
    "\"\"\"\n",
    "tests.test_con_pool(conv2d_maxpool)"
   ]
  },
  {
   "cell_type": "markdown",
   "metadata": {},
   "source": [
    "### Flatten Layer\n",
    "Implement the `flatten` function to change the dimension of `x_tensor` from a 4-D tensor to a 2-D tensor.  The output should be the shape (*Batch Size*, *Flattened Image Size*). Shortcut option: you can use classes from the [TensorFlow Layers](https://www.tensorflow.org/api_docs/python/tf/layers) or [TensorFlow Layers (contrib)](https://www.tensorflow.org/api_guides/python/contrib.layers) packages for this layer. For more of a challenge, only use other TensorFlow packages."
   ]
  },
  {
   "cell_type": "code",
   "execution_count": 40,
   "metadata": {},
   "outputs": [
    {
     "name": "stdout",
     "output_type": "stream",
     "text": [
      "Tests Passed\n"
     ]
    }
   ],
   "source": [
    "def flatten(x_tensor):\n",
    "    \"\"\"\n",
    "    Flatten x_tensor to (Batch Size, Flattened Image Size)\n",
    "    : x_tensor: A tensor of size (Batch Size, ...), where ... are the image dimensions.\n",
    "    : return: A tensor of size (Batch Size, Flattened Image Size).\n",
    "    \"\"\"\n",
    "    # TODO: Implement Function\n",
    "    flattened_image_size = int(x_tensor.shape[1])*int(x_tensor.shape[2]) * int(x_tensor.shape[3])\n",
    "    \n",
    "    return tf.reshape(x_tensor, [-1, flattened_image_size])\n",
    "\n",
    "\n",
    "\n",
    "\"\"\"\n",
    "DON'T MODIFY ANYTHING IN THIS CELL THAT IS BELOW THIS LINE\n",
    "\"\"\"\n",
    "tests.test_flatten(flatten)"
   ]
  },
  {
   "cell_type": "markdown",
   "metadata": {},
   "source": [
    "### Fully-Connected Layer\n",
    "Implement the `fully_conn` function to apply a fully connected layer to `x_tensor` with the shape (*Batch Size*, *num_outputs*). Shortcut option: you can use classes from the [TensorFlow Layers](https://www.tensorflow.org/api_docs/python/tf/layers) or [TensorFlow Layers (contrib)](https://www.tensorflow.org/api_guides/python/contrib.layers) packages for this layer. For more of a challenge, only use other TensorFlow packages."
   ]
  },
  {
   "cell_type": "code",
   "execution_count": 118,
   "metadata": {},
   "outputs": [
    {
     "name": "stdout",
     "output_type": "stream",
     "text": [
      "Tests Passed\n"
     ]
    }
   ],
   "source": [
    "def fully_conn(x_tensor, num_outputs):\n",
    "    \"\"\"\n",
    "    Apply a fully connected layer to x_tensor using weight and bias\n",
    "    : x_tensor: A 2-D tensor where the first dimension is batch size.\n",
    "    : num_outputs: The number of output that the new tensor should be.\n",
    "    : return: A 2-D tensor where the second dimension is num_outputs.\n",
    "    \"\"\"\n",
    "    # TODO: Implement Function\n",
    "    fc_W = tf.Variable(tf.truncated_normal((int(x_tensor.shape[1]), num_outputs), stddev=0.1))\n",
    "    fc_b = tf.Variable(tf.zeros(num_outputs))\n",
    "    return tf.nn.relu(tf.matmul(x_tensor, fc_W) + fc_b)\n",
    "\n",
    "\n",
    "\"\"\"\n",
    "DON'T MODIFY ANYTHING IN THIS CELL THAT IS BELOW THIS LINE\n",
    "\"\"\"\n",
    "tests.test_fully_conn(fully_conn)"
   ]
  },
  {
   "cell_type": "markdown",
   "metadata": {},
   "source": [
    "### Output Layer\n",
    "Implement the `output` function to apply a fully connected layer to `x_tensor` with the shape (*Batch Size*, *num_outputs*). Shortcut option: you can use classes from the [TensorFlow Layers](https://www.tensorflow.org/api_docs/python/tf/layers) or [TensorFlow Layers (contrib)](https://www.tensorflow.org/api_guides/python/contrib.layers) packages for this layer. For more of a challenge, only use other TensorFlow packages.\n",
    "\n",
    "**Note:** Activation, softmax, or cross entropy should **not** be applied to this."
   ]
  },
  {
   "cell_type": "code",
   "execution_count": 42,
   "metadata": {},
   "outputs": [
    {
     "name": "stdout",
     "output_type": "stream",
     "text": [
      "Tests Passed\n"
     ]
    }
   ],
   "source": [
    "def output(x_tensor, num_outputs):\n",
    "    \"\"\"\n",
    "    Apply a output layer to x_tensor using weight and bias\n",
    "    : x_tensor: A 2-D tensor where the first dimension is batch size.\n",
    "    : num_outputs: The number of output that the new tensor should be.\n",
    "    : return: A 2-D tensor where the second dimension is num_outputs.\n",
    "    \"\"\"\n",
    "    output_W = tf.Variable(tf.truncated_normal((int(x_tensor.shape[1]), num_outputs)))\n",
    "    output_b = tf.Variable(tf.zeros(num_outputs))\n",
    "    return tf.matmul(x_tensor, output_W) + output_b\n",
    "\n",
    "\n",
    "\"\"\"\n",
    "DON'T MODIFY ANYTHING IN THIS CELL THAT IS BELOW THIS LINE\n",
    "\"\"\"\n",
    "tests.test_output(output)"
   ]
  },
  {
   "cell_type": "markdown",
   "metadata": {},
   "source": [
    "### Create Convolutional Model\n",
    "Implement the function `conv_net` to create a convolutional neural network model. The function takes in a batch of images, `x`, and outputs logits.  Use the layers you created above to create this model:\n",
    "\n",
    "* Apply 1, 2, or 3 Convolution and Max Pool layers\n",
    "* Apply a Flatten Layer\n",
    "* Apply 1, 2, or 3 Fully Connected Layers\n",
    "* Apply an Output Layer\n",
    "* Return the output\n",
    "* Apply [TensorFlow's Dropout](https://www.tensorflow.org/api_docs/python/tf/nn/dropout) to one or more layers in the model using `keep_prob`. "
   ]
  },
  {
   "cell_type": "code",
   "execution_count": 133,
   "metadata": {},
   "outputs": [
    {
     "name": "stdout",
     "output_type": "stream",
     "text": [
      "Neural Network Built!\n"
     ]
    }
   ],
   "source": [
    "def conv_net(x, keep_prob):\n",
    "    \"\"\"\n",
    "    Create a convolutional neural network model\n",
    "    : x: Placeholder tensor that holds image data.\n",
    "    : keep_prob: Placeholder tensor that hold dropout keep probability.\n",
    "    : return: Tensor that represents logits\n",
    "    \"\"\"\n",
    "    # Apply 1, 2, or 3 Convolution and Max Pool layers\n",
    "    #    Play around with different number of outputs, kernel size and stride\n",
    "    # Function Definition from Above:\n",
    "    #    conv2d_maxpool(x_tensor, conv_num_outputs, conv_ksize, conv_strides, pool_ksize, pool_strides)\n",
    "    conv_ksize = (5, 5)\n",
    "    conv_strides = (1, 1)\n",
    "    pool_ksize = (2, 2)\n",
    "    pool_strides = (2, 2)\n",
    "    \n",
    "    conv1 = conv2d_maxpool(x, 5, conv_ksize, conv_strides, pool_ksize, pool_strides)\n",
    "    conv2 = conv2d_maxpool(conv1, 10, conv_ksize, conv_strides, pool_ksize, pool_strides)\n",
    "    conv3 = conv2d_maxpool(conv2, 35, conv_ksize, conv_strides, pool_ksize, pool_strides)\n",
    "\n",
    "    # Apply a Flatten Layer\n",
    "    # Function Definition from Above:\n",
    "    #   flatten(x_tensor)\n",
    "    flat = flatten(conv2)\n",
    "\n",
    "    # Apply 1, 2, or 3 Fully Connected Layers\n",
    "    #    Play around with different number of outputs\n",
    "    # Function Definition from Above:\n",
    "    #   fully_conn(x_tensor, num_outputs)\n",
    "    fc1 = tf.nn.dropout(fully_conn(flat, 80), keep_prob)\n",
    "    \n",
    "    # Apply an Output Layer\n",
    "    #    Set this to the number of classes\n",
    "    # Function Definition from Above:\n",
    "    #   output(x_tensor, num_outputs)\n",
    "    y_hat = output(fc1, 10)\n",
    "    \n",
    "    # return output\n",
    "    return y_hat\n",
    "\n",
    "\n",
    "\"\"\"\n",
    "DON'T MODIFY ANYTHING IN THIS CELL THAT IS BELOW THIS LINE\n",
    "\"\"\"\n",
    "\n",
    "##############################\n",
    "## Build the Neural Network ##\n",
    "##############################\n",
    "\n",
    "# Remove previous weights, bias, inputs, etc..\n",
    "tf.reset_default_graph()\n",
    "\n",
    "# Inputs\n",
    "x = neural_net_image_input((32, 32, 3))\n",
    "y = neural_net_label_input(10)\n",
    "keep_prob = neural_net_keep_prob_input()\n",
    "\n",
    "# Model\n",
    "logits = conv_net(x, keep_prob)\n",
    "\n",
    "# Name logits Tensor, so that is can be loaded from disk after training\n",
    "logits = tf.identity(logits, name='logits')\n",
    "\n",
    "# Loss and Optimizer\n",
    "cost = tf.reduce_mean(tf.nn.softmax_cross_entropy_with_logits(logits=logits, labels=y))\n",
    "optimizer = tf.train.AdamOptimizer().minimize(cost)\n",
    "\n",
    "# Accuracy\n",
    "correct_pred = tf.equal(tf.argmax(logits, 1), tf.argmax(y, 1))\n",
    "accuracy = tf.reduce_mean(tf.cast(correct_pred, tf.float32), name='accuracy')\n",
    "\n",
    "tests.test_conv_net(conv_net)"
   ]
  },
  {
   "cell_type": "markdown",
   "metadata": {},
   "source": [
    "## Train the Neural Network\n",
    "### Single Optimization\n",
    "Implement the function `train_neural_network` to do a single optimization.  The optimization should use `optimizer` to optimize in `session` with a `feed_dict` of the following:\n",
    "* `x` for image input\n",
    "* `y` for labels\n",
    "* `keep_prob` for keep probability for dropout\n",
    "\n",
    "This function will be called for each batch, so `tf.global_variables_initializer()` has already been called.\n",
    "\n",
    "Note: Nothing needs to be returned. This function is only optimizing the neural network."
   ]
  },
  {
   "cell_type": "code",
   "execution_count": 68,
   "metadata": {},
   "outputs": [
    {
     "name": "stdout",
     "output_type": "stream",
     "text": [
      "Tests Passed\n"
     ]
    }
   ],
   "source": [
    "def train_neural_network(session, optimizer, keep_probability, feature_batch, label_batch):\n",
    "    \"\"\"\n",
    "    Optimize the session on a batch of images and labels\n",
    "    : session: Current TensorFlow session\n",
    "    : optimizer: TensorFlow optimizer function\n",
    "    : keep_probability: keep probability\n",
    "    : feature_batch: Batch of Numpy image data\n",
    "    : label_batch: Batch of Numpy label data\n",
    "    \"\"\"\n",
    "    # TODO: Implement Function\n",
    "    session.run(optimizer,feed_dict={x: feature_batch, y: label_batch, keep_prob: keep_probability})\n",
    "    return None\n",
    "\n",
    "\n",
    "\"\"\"\n",
    "DON'T MODIFY ANYTHING IN THIS CELL THAT IS BELOW THIS LINE\n",
    "\"\"\"\n",
    "tests.test_train_nn(train_neural_network)"
   ]
  },
  {
   "cell_type": "markdown",
   "metadata": {},
   "source": [
    "### Show Stats\n",
    "Implement the function `print_stats` to print loss and validation accuracy.  Use the global variables `valid_features` and `valid_labels` to calculate validation accuracy.  Use a keep probability of `1.0` to calculate the loss and validation accuracy."
   ]
  },
  {
   "cell_type": "code",
   "execution_count": 69,
   "metadata": {
    "collapsed": true
   },
   "outputs": [],
   "source": [
    "def print_stats(session, feature_batch, label_batch, cost, accuracy):\n",
    "    \"\"\"\n",
    "    Print information about loss and validation accuracy\n",
    "    : session: Current TensorFlow session\n",
    "    : feature_batch: Batch of Numpy image data\n",
    "    : label_batch: Batch of Numpy label data\n",
    "    : cost: TensorFlow cost function\n",
    "    : accuracy: TensorFlow accuracy function\n",
    "    \"\"\"\n",
    "    global valid_features, valid_labels\n",
    "        \n",
    "    loss = session.run(cost, feed_dict={x: feature_batch, y: label_batch, keep_prob: 1.0})\n",
    "    val_accuracy = session.run(accuracy, feed_dict={x: valid_features, y: valid_labels, keep_prob: 1.0})\n",
    "    \n",
    "    print(\"Loss: {}, Validation Accuracy: {}\".format(loss, val_accuracy))\n",
    "    "
   ]
  },
  {
   "cell_type": "markdown",
   "metadata": {},
   "source": [
    "### Hyperparameters\n",
    "Tune the following parameters:\n",
    "* Set `epochs` to the number of iterations until the network stops learning or start overfitting\n",
    "* Set `batch_size` to the highest number that your machine has memory for.  Most people set them to common sizes of memory:\n",
    " * 64\n",
    " * 128\n",
    " * 256\n",
    " * ...\n",
    "* Set `keep_probability` to the probability of keeping a node using dropout"
   ]
  },
  {
   "cell_type": "code",
   "execution_count": 131,
   "metadata": {
    "collapsed": true
   },
   "outputs": [],
   "source": [
    "# TODO: Tune Parameters\n",
    "epochs = 40\n",
    "batch_size = 64\n",
    "keep_probability = 0.3"
   ]
  },
  {
   "cell_type": "markdown",
   "metadata": {},
   "source": [
    "### Train on a Single CIFAR-10 Batch\n",
    "Instead of training the neural network on all the CIFAR-10 batches of data, let's use a single batch. This should save time while you iterate on the model to get a better accuracy.  Once the final validation accuracy is 50% or greater, run the model on all the data in the next section."
   ]
  },
  {
   "cell_type": "code",
   "execution_count": 134,
   "metadata": {},
   "outputs": [
    {
     "name": "stdout",
     "output_type": "stream",
     "text": [
      "Checking the Training on a Single Batch...\n",
      "Epoch  1, CIFAR-10 Batch 1:  Loss: 2.195693254470825, Validation Accuracy: 0.23260000348091125\n",
      "Epoch  2, CIFAR-10 Batch 1:  Loss: 2.0120625495910645, Validation Accuracy: 0.2863999903202057\n",
      "Epoch  3, CIFAR-10 Batch 1:  Loss: 1.973280668258667, Validation Accuracy: 0.352400004863739\n",
      "Epoch  4, CIFAR-10 Batch 1:  Loss: 1.950708031654358, Validation Accuracy: 0.382999986410141\n",
      "Epoch  5, CIFAR-10 Batch 1:  Loss: 1.853986144065857, Validation Accuracy: 0.397599995136261\n",
      "Epoch  6, CIFAR-10 Batch 1:  Loss: 1.801748275756836, Validation Accuracy: 0.40799999237060547\n",
      "Epoch  7, CIFAR-10 Batch 1:  Loss: 1.8240314722061157, Validation Accuracy: 0.41819998621940613\n",
      "Epoch  8, CIFAR-10 Batch 1:  Loss: 1.7862262725830078, Validation Accuracy: 0.436599999666214\n",
      "Epoch  9, CIFAR-10 Batch 1:  Loss: 1.7169005870819092, Validation Accuracy: 0.438400000333786\n",
      "Epoch 10, CIFAR-10 Batch 1:  Loss: 1.720990777015686, Validation Accuracy: 0.43619999289512634\n",
      "Epoch 11, CIFAR-10 Batch 1:  Loss: 1.6748749017715454, Validation Accuracy: 0.42660000920295715\n",
      "Epoch 12, CIFAR-10 Batch 1:  Loss: 1.571532964706421, Validation Accuracy: 0.45879998803138733\n",
      "Epoch 13, CIFAR-10 Batch 1:  Loss: 1.525537133216858, Validation Accuracy: 0.46380001306533813\n",
      "Epoch 14, CIFAR-10 Batch 1:  Loss: 1.4494863748550415, Validation Accuracy: 0.4717999994754791\n",
      "Epoch 15, CIFAR-10 Batch 1:  Loss: 1.4213494062423706, Validation Accuracy: 0.47099998593330383\n",
      "Epoch 16, CIFAR-10 Batch 1:  Loss: 1.3758851289749146, Validation Accuracy: 0.48399999737739563\n",
      "Epoch 17, CIFAR-10 Batch 1:  Loss: 1.3309253454208374, Validation Accuracy: 0.492000013589859\n",
      "Epoch 18, CIFAR-10 Batch 1:  Loss: 1.302842140197754, Validation Accuracy: 0.48820000886917114\n",
      "Epoch 19, CIFAR-10 Batch 1:  Loss: 1.2610783576965332, Validation Accuracy: 0.5012000203132629\n",
      "Epoch 20, CIFAR-10 Batch 1:  Loss: 1.247698187828064, Validation Accuracy: 0.4909999966621399\n",
      "Epoch 21, CIFAR-10 Batch 1:  Loss: 1.211976408958435, Validation Accuracy: 0.49900001287460327\n",
      "Epoch 22, CIFAR-10 Batch 1:  Loss: 1.2235488891601562, Validation Accuracy: 0.4880000054836273\n",
      "Epoch 23, CIFAR-10 Batch 1:  Loss: 1.1755387783050537, Validation Accuracy: 0.5034000277519226\n",
      "Epoch 24, CIFAR-10 Batch 1:  Loss: 1.0414741039276123, Validation Accuracy: 0.49459999799728394\n",
      "Epoch 25, CIFAR-10 Batch 1:  Loss: 1.075445532798767, Validation Accuracy: 0.4997999966144562\n",
      "Epoch 26, CIFAR-10 Batch 1:  Loss: 1.0098752975463867, Validation Accuracy: 0.5152000188827515\n",
      "Epoch 27, CIFAR-10 Batch 1:  Loss: 1.0004932880401611, Validation Accuracy: 0.5188000202178955\n",
      "Epoch 28, CIFAR-10 Batch 1:  Loss: 0.9920399785041809, Validation Accuracy: 0.5157999992370605\n",
      "Epoch 29, CIFAR-10 Batch 1:  Loss: 0.9333124160766602, Validation Accuracy: 0.5019999742507935\n",
      "Epoch 30, CIFAR-10 Batch 1:  Loss: 0.9256213903427124, Validation Accuracy: 0.5192000269889832\n",
      "Epoch 31, CIFAR-10 Batch 1:  Loss: 0.8986029624938965, Validation Accuracy: 0.5239999890327454\n",
      "Epoch 32, CIFAR-10 Batch 1:  Loss: 0.8954366445541382, Validation Accuracy: 0.5180000066757202\n",
      "Epoch 33, CIFAR-10 Batch 1:  Loss: 0.8806988596916199, Validation Accuracy: 0.5149999856948853\n",
      "Epoch 34, CIFAR-10 Batch 1:  Loss: 0.9146092534065247, Validation Accuracy: 0.5094000101089478\n",
      "Epoch 35, CIFAR-10 Batch 1:  Loss: 0.8274255990982056, Validation Accuracy: 0.5189999938011169\n",
      "Epoch 36, CIFAR-10 Batch 1:  Loss: 0.7874971628189087, Validation Accuracy: 0.5171999931335449\n",
      "Epoch 37, CIFAR-10 Batch 1:  Loss: 0.7882815599441528, Validation Accuracy: 0.5094000101089478\n",
      "Epoch 38, CIFAR-10 Batch 1:  Loss: 0.7442831993103027, Validation Accuracy: 0.517799973487854\n",
      "Epoch 39, CIFAR-10 Batch 1:  Loss: 0.7567687034606934, Validation Accuracy: 0.5253999829292297\n",
      "Epoch 40, CIFAR-10 Batch 1:  Loss: 0.6876867413520813, Validation Accuracy: 0.5234000086784363\n"
     ]
    }
   ],
   "source": [
    "\"\"\"\n",
    "DON'T MODIFY ANYTHING IN THIS CELL\n",
    "\"\"\"\n",
    "print('Checking the Training on a Single Batch...')\n",
    "with tf.Session() as sess:\n",
    "    # Initializing the variables\n",
    "    sess.run(tf.global_variables_initializer())\n",
    "    \n",
    "    # Training cycle\n",
    "    for epoch in range(epochs):\n",
    "        batch_i = 1\n",
    "        for batch_features, batch_labels in helper.load_preprocess_training_batch(batch_i, batch_size):\n",
    "            train_neural_network(sess, optimizer, keep_probability, batch_features, batch_labels)\n",
    "        print('Epoch {:>2}, CIFAR-10 Batch {}:  '.format(epoch + 1, batch_i), end='')\n",
    "        print_stats(sess, batch_features, batch_labels, cost, accuracy)"
   ]
  },
  {
   "cell_type": "markdown",
   "metadata": {},
   "source": [
    "### Fully Train the Model\n",
    "Now that you got a good accuracy with a single CIFAR-10 batch, try it with all five batches."
   ]
  },
  {
   "cell_type": "code",
   "execution_count": 135,
   "metadata": {},
   "outputs": [
    {
     "name": "stdout",
     "output_type": "stream",
     "text": [
      "Training...\n",
      "Epoch  1, CIFAR-10 Batch 1:  Loss: 2.215928316116333, Validation Accuracy: 0.2215999960899353\n",
      "Epoch  1, CIFAR-10 Batch 2:  Loss: 2.132758140563965, Validation Accuracy: 0.2924000024795532\n",
      "Epoch  1, CIFAR-10 Batch 3:  Loss: 1.9626985788345337, Validation Accuracy: 0.3255999982357025\n",
      "Epoch  1, CIFAR-10 Batch 4:  Loss: 1.838188886642456, Validation Accuracy: 0.3463999927043915\n",
      "Epoch  1, CIFAR-10 Batch 5:  Loss: 1.7500507831573486, Validation Accuracy: 0.3917999863624573\n",
      "Epoch  2, CIFAR-10 Batch 1:  Loss: 1.937150001525879, Validation Accuracy: 0.4153999984264374\n",
      "Epoch  2, CIFAR-10 Batch 2:  Loss: 1.9071342945098877, Validation Accuracy: 0.4293999969959259\n",
      "Epoch  2, CIFAR-10 Batch 3:  Loss: 1.5865525007247925, Validation Accuracy: 0.4422000050544739\n",
      "Epoch  2, CIFAR-10 Batch 4:  Loss: 1.552803635597229, Validation Accuracy: 0.4535999894142151\n",
      "Epoch  2, CIFAR-10 Batch 5:  Loss: 1.6510921716690063, Validation Accuracy: 0.45980000495910645\n",
      "Epoch  3, CIFAR-10 Batch 1:  Loss: 1.6508400440216064, Validation Accuracy: 0.4575999975204468\n",
      "Epoch  3, CIFAR-10 Batch 2:  Loss: 1.7385244369506836, Validation Accuracy: 0.47920000553131104\n",
      "Epoch  3, CIFAR-10 Batch 3:  Loss: 1.4746344089508057, Validation Accuracy: 0.4819999933242798\n",
      "Epoch  3, CIFAR-10 Batch 4:  Loss: 1.3842618465423584, Validation Accuracy: 0.4803999960422516\n",
      "Epoch  3, CIFAR-10 Batch 5:  Loss: 1.6428276300430298, Validation Accuracy: 0.4787999987602234\n",
      "Epoch  4, CIFAR-10 Batch 1:  Loss: 1.5998947620391846, Validation Accuracy: 0.5012000203132629\n",
      "Epoch  4, CIFAR-10 Batch 2:  Loss: 1.6967045068740845, Validation Accuracy: 0.4713999927043915\n",
      "Epoch  4, CIFAR-10 Batch 3:  Loss: 1.412413477897644, Validation Accuracy: 0.5012000203132629\n",
      "Epoch  4, CIFAR-10 Batch 4:  Loss: 1.3161067962646484, Validation Accuracy: 0.5055999755859375\n",
      "Epoch  4, CIFAR-10 Batch 5:  Loss: 1.5547666549682617, Validation Accuracy: 0.5012000203132629\n",
      "Epoch  5, CIFAR-10 Batch 1:  Loss: 1.461380958557129, Validation Accuracy: 0.49559998512268066\n",
      "Epoch  5, CIFAR-10 Batch 2:  Loss: 1.5069688558578491, Validation Accuracy: 0.5088000297546387\n",
      "Epoch  5, CIFAR-10 Batch 3:  Loss: 1.3161120414733887, Validation Accuracy: 0.5112000107765198\n",
      "Epoch  5, CIFAR-10 Batch 4:  Loss: 1.249890923500061, Validation Accuracy: 0.5288000106811523\n",
      "Epoch  5, CIFAR-10 Batch 5:  Loss: 1.4934566020965576, Validation Accuracy: 0.522599995136261\n",
      "Epoch  6, CIFAR-10 Batch 1:  Loss: 1.3995716571807861, Validation Accuracy: 0.5248000025749207\n",
      "Epoch  6, CIFAR-10 Batch 2:  Loss: 1.4230127334594727, Validation Accuracy: 0.5288000106811523\n",
      "Epoch  6, CIFAR-10 Batch 3:  Loss: 1.3267691135406494, Validation Accuracy: 0.5353999733924866\n",
      "Epoch  6, CIFAR-10 Batch 4:  Loss: 1.2088878154754639, Validation Accuracy: 0.5353999733924866\n",
      "Epoch  6, CIFAR-10 Batch 5:  Loss: 1.4140363931655884, Validation Accuracy: 0.5443999767303467\n",
      "Epoch  7, CIFAR-10 Batch 1:  Loss: 1.3865628242492676, Validation Accuracy: 0.5396000146865845\n",
      "Epoch  7, CIFAR-10 Batch 2:  Loss: 1.4167766571044922, Validation Accuracy: 0.5338000059127808\n",
      "Epoch  7, CIFAR-10 Batch 3:  Loss: 1.1567529439926147, Validation Accuracy: 0.5443999767303467\n",
      "Epoch  7, CIFAR-10 Batch 4:  Loss: 1.1048355102539062, Validation Accuracy: 0.5375999808311462\n",
      "Epoch  7, CIFAR-10 Batch 5:  Loss: 1.3965293169021606, Validation Accuracy: 0.5371999740600586\n",
      "Epoch  8, CIFAR-10 Batch 1:  Loss: 1.3642183542251587, Validation Accuracy: 0.5551999807357788\n",
      "Epoch  8, CIFAR-10 Batch 2:  Loss: 1.283099889755249, Validation Accuracy: 0.5547999739646912\n",
      "Epoch  8, CIFAR-10 Batch 3:  Loss: 1.1716094017028809, Validation Accuracy: 0.5496000051498413\n",
      "Epoch  8, CIFAR-10 Batch 4:  Loss: 1.118060827255249, Validation Accuracy: 0.5422000288963318\n",
      "Epoch  8, CIFAR-10 Batch 5:  Loss: 1.3140449523925781, Validation Accuracy: 0.5550000071525574\n",
      "Epoch  9, CIFAR-10 Batch 1:  Loss: 1.336180329322815, Validation Accuracy: 0.5559999942779541\n",
      "Epoch  9, CIFAR-10 Batch 2:  Loss: 1.226069450378418, Validation Accuracy: 0.5691999793052673\n",
      "Epoch  9, CIFAR-10 Batch 3:  Loss: 1.1369234323501587, Validation Accuracy: 0.5627999901771545\n",
      "Epoch  9, CIFAR-10 Batch 4:  Loss: 1.0698009729385376, Validation Accuracy: 0.5600000023841858\n",
      "Epoch  9, CIFAR-10 Batch 5:  Loss: 1.2933690547943115, Validation Accuracy: 0.5582000017166138\n",
      "Epoch 10, CIFAR-10 Batch 1:  Loss: 1.2717962265014648, Validation Accuracy: 0.5658000111579895\n",
      "Epoch 10, CIFAR-10 Batch 2:  Loss: 1.2025187015533447, Validation Accuracy: 0.5690000057220459\n",
      "Epoch 10, CIFAR-10 Batch 3:  Loss: 1.063302993774414, Validation Accuracy: 0.5558000206947327\n",
      "Epoch 10, CIFAR-10 Batch 4:  Loss: 1.093318223953247, Validation Accuracy: 0.5663999915122986\n",
      "Epoch 10, CIFAR-10 Batch 5:  Loss: 1.1782423257827759, Validation Accuracy: 0.5680000185966492\n",
      "Epoch 11, CIFAR-10 Batch 1:  Loss: 1.2497590780258179, Validation Accuracy: 0.5680000185966492\n",
      "Epoch 11, CIFAR-10 Batch 2:  Loss: 1.051272988319397, Validation Accuracy: 0.5752000212669373\n",
      "Epoch 11, CIFAR-10 Batch 3:  Loss: 1.0923274755477905, Validation Accuracy: 0.5722000002861023\n",
      "Epoch 11, CIFAR-10 Batch 4:  Loss: 1.0282655954360962, Validation Accuracy: 0.5681999921798706\n",
      "Epoch 11, CIFAR-10 Batch 5:  Loss: 1.1561449766159058, Validation Accuracy: 0.5550000071525574\n",
      "Epoch 12, CIFAR-10 Batch 1:  Loss: 1.2066318988800049, Validation Accuracy: 0.5690000057220459\n",
      "Epoch 12, CIFAR-10 Batch 2:  Loss: 1.0984312295913696, Validation Accuracy: 0.5730000138282776\n",
      "Epoch 12, CIFAR-10 Batch 3:  Loss: 1.0273252725601196, Validation Accuracy: 0.5723999738693237\n",
      "Epoch 12, CIFAR-10 Batch 4:  Loss: 1.0576603412628174, Validation Accuracy: 0.5748000144958496\n",
      "Epoch 12, CIFAR-10 Batch 5:  Loss: 1.1151857376098633, Validation Accuracy: 0.5691999793052673\n",
      "Epoch 13, CIFAR-10 Batch 1:  Loss: 1.208251714706421, Validation Accuracy: 0.5708000063896179\n",
      "Epoch 13, CIFAR-10 Batch 2:  Loss: 1.0957576036453247, Validation Accuracy: 0.5774000287055969\n",
      "Epoch 13, CIFAR-10 Batch 3:  Loss: 1.0026739835739136, Validation Accuracy: 0.5803999900817871\n",
      "Epoch 13, CIFAR-10 Batch 4:  Loss: 1.0639011859893799, Validation Accuracy: 0.5605999827384949\n",
      "Epoch 13, CIFAR-10 Batch 5:  Loss: 1.0850292444229126, Validation Accuracy: 0.5636000037193298\n",
      "Epoch 14, CIFAR-10 Batch 1:  Loss: 1.1690073013305664, Validation Accuracy: 0.5813999772071838\n",
      "Epoch 14, CIFAR-10 Batch 2:  Loss: 1.0830655097961426, Validation Accuracy: 0.5726000070571899\n",
      "Epoch 14, CIFAR-10 Batch 3:  Loss: 0.9322616457939148, Validation Accuracy: 0.5831999778747559\n",
      "Epoch 14, CIFAR-10 Batch 4:  Loss: 1.098944067955017, Validation Accuracy: 0.5763999819755554\n",
      "Epoch 14, CIFAR-10 Batch 5:  Loss: 1.0710893869400024, Validation Accuracy: 0.5788000226020813\n",
      "Epoch 15, CIFAR-10 Batch 1:  Loss: 1.1823337078094482, Validation Accuracy: 0.5789999961853027\n",
      "Epoch 15, CIFAR-10 Batch 2:  Loss: 1.0627715587615967, Validation Accuracy: 0.5784000158309937\n",
      "Epoch 15, CIFAR-10 Batch 3:  Loss: 0.9321330785751343, Validation Accuracy: 0.5827999711036682\n",
      "Epoch 15, CIFAR-10 Batch 4:  Loss: 1.0470167398452759, Validation Accuracy: 0.5708000063896179\n",
      "Epoch 15, CIFAR-10 Batch 5:  Loss: 1.0941575765609741, Validation Accuracy: 0.5802000164985657\n",
      "Epoch 16, CIFAR-10 Batch 1:  Loss: 1.1700117588043213, Validation Accuracy: 0.5871999859809875\n",
      "Epoch 16, CIFAR-10 Batch 2:  Loss: 1.045580506324768, Validation Accuracy: 0.5838000178337097\n",
      "Epoch 16, CIFAR-10 Batch 3:  Loss: 0.9620882868766785, Validation Accuracy: 0.5838000178337097\n",
      "Epoch 16, CIFAR-10 Batch 4:  Loss: 1.0699554681777954, Validation Accuracy: 0.5824000239372253\n",
      "Epoch 16, CIFAR-10 Batch 5:  Loss: 1.0531694889068604, Validation Accuracy: 0.5781999826431274\n",
      "Epoch 17, CIFAR-10 Batch 1:  Loss: 1.1624778509140015, Validation Accuracy: 0.5898000001907349\n",
      "Epoch 17, CIFAR-10 Batch 2:  Loss: 0.9929150342941284, Validation Accuracy: 0.5893999934196472\n",
      "Epoch 17, CIFAR-10 Batch 3:  Loss: 0.9454280734062195, Validation Accuracy: 0.5830000042915344\n",
      "Epoch 17, CIFAR-10 Batch 4:  Loss: 0.9767780303955078, Validation Accuracy: 0.5881999731063843\n",
      "Epoch 17, CIFAR-10 Batch 5:  Loss: 1.037398099899292, Validation Accuracy: 0.5860000252723694\n",
      "Epoch 18, CIFAR-10 Batch 1:  Loss: 1.1112253665924072, Validation Accuracy: 0.592199981212616\n"
     ]
    },
    {
     "name": "stdout",
     "output_type": "stream",
     "text": [
      "Epoch 18, CIFAR-10 Batch 2:  Loss: 1.0597169399261475, Validation Accuracy: 0.5821999907493591\n",
      "Epoch 18, CIFAR-10 Batch 3:  Loss: 1.0091581344604492, Validation Accuracy: 0.5916000008583069\n",
      "Epoch 18, CIFAR-10 Batch 4:  Loss: 1.0168132781982422, Validation Accuracy: 0.5587999820709229\n",
      "Epoch 18, CIFAR-10 Batch 5:  Loss: 0.9959880113601685, Validation Accuracy: 0.5771999955177307\n",
      "Epoch 19, CIFAR-10 Batch 1:  Loss: 1.1502692699432373, Validation Accuracy: 0.5885999798774719\n",
      "Epoch 19, CIFAR-10 Batch 2:  Loss: 1.0006974935531616, Validation Accuracy: 0.5914000272750854\n",
      "Epoch 19, CIFAR-10 Batch 3:  Loss: 0.9358484148979187, Validation Accuracy: 0.5781999826431274\n",
      "Epoch 19, CIFAR-10 Batch 4:  Loss: 0.9196823835372925, Validation Accuracy: 0.5825999975204468\n",
      "Epoch 19, CIFAR-10 Batch 5:  Loss: 0.9972832798957825, Validation Accuracy: 0.5925999879837036\n",
      "Epoch 20, CIFAR-10 Batch 1:  Loss: 1.0960911512374878, Validation Accuracy: 0.5925999879837036\n",
      "Epoch 20, CIFAR-10 Batch 2:  Loss: 0.9578539133071899, Validation Accuracy: 0.578000009059906\n",
      "Epoch 20, CIFAR-10 Batch 3:  Loss: 0.9311164021492004, Validation Accuracy: 0.5946000218391418\n",
      "Epoch 20, CIFAR-10 Batch 4:  Loss: 0.9216408729553223, Validation Accuracy: 0.574400007724762\n",
      "Epoch 20, CIFAR-10 Batch 5:  Loss: 0.9394766688346863, Validation Accuracy: 0.5843999981880188\n",
      "Epoch 21, CIFAR-10 Batch 1:  Loss: 1.0660545825958252, Validation Accuracy: 0.5863999724388123\n",
      "Epoch 21, CIFAR-10 Batch 2:  Loss: 0.9600979089736938, Validation Accuracy: 0.5965999960899353\n",
      "Epoch 21, CIFAR-10 Batch 3:  Loss: 0.9119359850883484, Validation Accuracy: 0.5965999960899353\n",
      "Epoch 21, CIFAR-10 Batch 4:  Loss: 0.8564378619194031, Validation Accuracy: 0.5910000205039978\n",
      "Epoch 21, CIFAR-10 Batch 5:  Loss: 0.9873477816581726, Validation Accuracy: 0.5928000211715698\n",
      "Epoch 22, CIFAR-10 Batch 1:  Loss: 1.0400102138519287, Validation Accuracy: 0.5874000191688538\n",
      "Epoch 22, CIFAR-10 Batch 2:  Loss: 0.8925477862358093, Validation Accuracy: 0.603600025177002\n",
      "Epoch 22, CIFAR-10 Batch 3:  Loss: 0.8734407424926758, Validation Accuracy: 0.6007999777793884\n",
      "Epoch 22, CIFAR-10 Batch 4:  Loss: 0.8499811291694641, Validation Accuracy: 0.5878000259399414\n",
      "Epoch 22, CIFAR-10 Batch 5:  Loss: 0.9165508151054382, Validation Accuracy: 0.602400004863739\n",
      "Epoch 23, CIFAR-10 Batch 1:  Loss: 1.0089318752288818, Validation Accuracy: 0.5934000015258789\n",
      "Epoch 23, CIFAR-10 Batch 2:  Loss: 0.8915570378303528, Validation Accuracy: 0.5917999744415283\n",
      "Epoch 23, CIFAR-10 Batch 3:  Loss: 0.9278532266616821, Validation Accuracy: 0.5867999792098999\n",
      "Epoch 23, CIFAR-10 Batch 4:  Loss: 0.947717010974884, Validation Accuracy: 0.5720000267028809\n",
      "Epoch 23, CIFAR-10 Batch 5:  Loss: 0.9669917821884155, Validation Accuracy: 0.5902000069618225\n",
      "Epoch 24, CIFAR-10 Batch 1:  Loss: 1.1102263927459717, Validation Accuracy: 0.5914000272750854\n",
      "Epoch 24, CIFAR-10 Batch 2:  Loss: 0.9124701619148254, Validation Accuracy: 0.5935999751091003\n",
      "Epoch 24, CIFAR-10 Batch 3:  Loss: 0.8409481048583984, Validation Accuracy: 0.5964000225067139\n",
      "Epoch 24, CIFAR-10 Batch 4:  Loss: 0.9200167655944824, Validation Accuracy: 0.5795999765396118\n",
      "Epoch 24, CIFAR-10 Batch 5:  Loss: 0.9168098568916321, Validation Accuracy: 0.59579998254776\n",
      "Epoch 25, CIFAR-10 Batch 1:  Loss: 1.0955324172973633, Validation Accuracy: 0.5956000089645386\n",
      "Epoch 25, CIFAR-10 Batch 2:  Loss: 0.878818690776825, Validation Accuracy: 0.592199981212616\n",
      "Epoch 25, CIFAR-10 Batch 3:  Loss: 0.8926295042037964, Validation Accuracy: 0.6065999865531921\n",
      "Epoch 25, CIFAR-10 Batch 4:  Loss: 0.827780544757843, Validation Accuracy: 0.6007999777793884\n",
      "Epoch 25, CIFAR-10 Batch 5:  Loss: 0.9382665753364563, Validation Accuracy: 0.5839999914169312\n",
      "Epoch 26, CIFAR-10 Batch 1:  Loss: 0.9841318130493164, Validation Accuracy: 0.5924000144004822\n",
      "Epoch 26, CIFAR-10 Batch 2:  Loss: 0.8655067682266235, Validation Accuracy: 0.5942000150680542\n",
      "Epoch 26, CIFAR-10 Batch 3:  Loss: 0.8958343267440796, Validation Accuracy: 0.5934000015258789\n",
      "Epoch 26, CIFAR-10 Batch 4:  Loss: 0.8494922518730164, Validation Accuracy: 0.5928000211715698\n",
      "Epoch 26, CIFAR-10 Batch 5:  Loss: 0.9133546948432922, Validation Accuracy: 0.5898000001907349\n",
      "Epoch 27, CIFAR-10 Batch 1:  Loss: 1.0366417169570923, Validation Accuracy: 0.5917999744415283\n",
      "Epoch 27, CIFAR-10 Batch 2:  Loss: 0.9105391502380371, Validation Accuracy: 0.5983999967575073\n",
      "Epoch 27, CIFAR-10 Batch 3:  Loss: 0.8609782457351685, Validation Accuracy: 0.5867999792098999\n",
      "Epoch 27, CIFAR-10 Batch 4:  Loss: 0.8820375204086304, Validation Accuracy: 0.5766000151634216\n",
      "Epoch 27, CIFAR-10 Batch 5:  Loss: 0.9381381869316101, Validation Accuracy: 0.5924000144004822\n",
      "Epoch 28, CIFAR-10 Batch 1:  Loss: 0.9702422022819519, Validation Accuracy: 0.6001999974250793\n",
      "Epoch 28, CIFAR-10 Batch 2:  Loss: 0.8940688967704773, Validation Accuracy: 0.5950000286102295\n",
      "Epoch 28, CIFAR-10 Batch 3:  Loss: 0.8718966245651245, Validation Accuracy: 0.603600025177002\n",
      "Epoch 28, CIFAR-10 Batch 4:  Loss: 0.8815123438835144, Validation Accuracy: 0.5861999988555908\n",
      "Epoch 28, CIFAR-10 Batch 5:  Loss: 0.934731125831604, Validation Accuracy: 0.6046000123023987\n",
      "Epoch 29, CIFAR-10 Batch 1:  Loss: 1.0422630310058594, Validation Accuracy: 0.5979999899864197\n",
      "Epoch 29, CIFAR-10 Batch 2:  Loss: 0.880584716796875, Validation Accuracy: 0.5932000279426575\n",
      "Epoch 29, CIFAR-10 Batch 3:  Loss: 0.903956413269043, Validation Accuracy: 0.5906000137329102\n",
      "Epoch 29, CIFAR-10 Batch 4:  Loss: 0.8195527791976929, Validation Accuracy: 0.5947999954223633\n",
      "Epoch 29, CIFAR-10 Batch 5:  Loss: 0.9329994916915894, Validation Accuracy: 0.5947999954223633\n",
      "Epoch 30, CIFAR-10 Batch 1:  Loss: 1.0479768514633179, Validation Accuracy: 0.590399980545044\n",
      "Epoch 30, CIFAR-10 Batch 2:  Loss: 0.927960991859436, Validation Accuracy: 0.5916000008583069\n",
      "Epoch 30, CIFAR-10 Batch 3:  Loss: 0.7583075165748596, Validation Accuracy: 0.6025999784469604\n",
      "Epoch 30, CIFAR-10 Batch 4:  Loss: 0.8668864965438843, Validation Accuracy: 0.5795999765396118\n",
      "Epoch 30, CIFAR-10 Batch 5:  Loss: 0.9127812385559082, Validation Accuracy: 0.5857999920845032\n",
      "Epoch 31, CIFAR-10 Batch 1:  Loss: 1.0768191814422607, Validation Accuracy: 0.5730000138282776\n",
      "Epoch 31, CIFAR-10 Batch 2:  Loss: 0.8930618166923523, Validation Accuracy: 0.6007999777793884\n",
      "Epoch 31, CIFAR-10 Batch 3:  Loss: 0.8056308627128601, Validation Accuracy: 0.597000002861023\n",
      "Epoch 31, CIFAR-10 Batch 4:  Loss: 0.7758573889732361, Validation Accuracy: 0.600600004196167\n",
      "Epoch 31, CIFAR-10 Batch 5:  Loss: 0.9053634405136108, Validation Accuracy: 0.6043999791145325\n",
      "Epoch 32, CIFAR-10 Batch 1:  Loss: 0.9371821284294128, Validation Accuracy: 0.6051999926567078\n",
      "Epoch 32, CIFAR-10 Batch 2:  Loss: 0.8300806283950806, Validation Accuracy: 0.6000000238418579\n",
      "Epoch 32, CIFAR-10 Batch 3:  Loss: 0.8357740640640259, Validation Accuracy: 0.5947999954223633\n",
      "Epoch 32, CIFAR-10 Batch 4:  Loss: 0.8417444229125977, Validation Accuracy: 0.592199981212616\n",
      "Epoch 32, CIFAR-10 Batch 5:  Loss: 0.9042030572891235, Validation Accuracy: 0.5929999947547913\n",
      "Epoch 33, CIFAR-10 Batch 1:  Loss: 0.9044721722602844, Validation Accuracy: 0.5996000170707703\n",
      "Epoch 33, CIFAR-10 Batch 2:  Loss: 0.8478525876998901, Validation Accuracy: 0.6055999994277954\n",
      "Epoch 33, CIFAR-10 Batch 3:  Loss: 0.8431242108345032, Validation Accuracy: 0.6011999845504761\n",
      "Epoch 33, CIFAR-10 Batch 4:  Loss: 0.7373039722442627, Validation Accuracy: 0.5982000231742859\n",
      "Epoch 33, CIFAR-10 Batch 5:  Loss: 0.8838327527046204, Validation Accuracy: 0.5964000225067139\n",
      "Epoch 34, CIFAR-10 Batch 1:  Loss: 0.9463914632797241, Validation Accuracy: 0.597000002861023\n",
      "Epoch 34, CIFAR-10 Batch 2:  Loss: 0.8980355262756348, Validation Accuracy: 0.5727999806404114\n",
      "Epoch 34, CIFAR-10 Batch 3:  Loss: 0.801348865032196, Validation Accuracy: 0.6003999710083008\n",
      "Epoch 34, CIFAR-10 Batch 4:  Loss: 0.7745300531387329, Validation Accuracy: 0.6033999919891357\n",
      "Epoch 34, CIFAR-10 Batch 5:  Loss: 0.9753215909004211, Validation Accuracy: 0.5902000069618225\n",
      "Epoch 35, CIFAR-10 Batch 1:  Loss: 0.9646619558334351, Validation Accuracy: 0.6007999777793884\n",
      "Epoch 35, CIFAR-10 Batch 2:  Loss: 0.859286904335022, Validation Accuracy: 0.6064000129699707\n"
     ]
    },
    {
     "name": "stdout",
     "output_type": "stream",
     "text": [
      "Epoch 35, CIFAR-10 Batch 3:  Loss: 0.8511618375778198, Validation Accuracy: 0.602400004863739\n",
      "Epoch 35, CIFAR-10 Batch 4:  Loss: 0.7658098340034485, Validation Accuracy: 0.6014000177383423\n",
      "Epoch 35, CIFAR-10 Batch 5:  Loss: 0.8811632990837097, Validation Accuracy: 0.5983999967575073\n",
      "Epoch 36, CIFAR-10 Batch 1:  Loss: 0.9213443994522095, Validation Accuracy: 0.6018000245094299\n",
      "Epoch 36, CIFAR-10 Batch 2:  Loss: 0.8457945585250854, Validation Accuracy: 0.5934000015258789\n",
      "Epoch 36, CIFAR-10 Batch 3:  Loss: 0.8483913540840149, Validation Accuracy: 0.590399980545044\n",
      "Epoch 36, CIFAR-10 Batch 4:  Loss: 0.7612659931182861, Validation Accuracy: 0.6039999723434448\n",
      "Epoch 36, CIFAR-10 Batch 5:  Loss: 0.8398357629776001, Validation Accuracy: 0.6032000184059143\n",
      "Epoch 37, CIFAR-10 Batch 1:  Loss: 0.9392136335372925, Validation Accuracy: 0.5917999744415283\n",
      "Epoch 37, CIFAR-10 Batch 2:  Loss: 0.798960268497467, Validation Accuracy: 0.6019999980926514\n",
      "Epoch 37, CIFAR-10 Batch 3:  Loss: 0.8459587097167969, Validation Accuracy: 0.5942000150680542\n",
      "Epoch 37, CIFAR-10 Batch 4:  Loss: 0.750399112701416, Validation Accuracy: 0.6050000190734863\n",
      "Epoch 37, CIFAR-10 Batch 5:  Loss: 0.8401756286621094, Validation Accuracy: 0.593999981880188\n",
      "Epoch 38, CIFAR-10 Batch 1:  Loss: 0.9751670956611633, Validation Accuracy: 0.6050000190734863\n",
      "Epoch 38, CIFAR-10 Batch 2:  Loss: 0.7802538871765137, Validation Accuracy: 0.6096000075340271\n",
      "Epoch 38, CIFAR-10 Batch 3:  Loss: 0.8198103904724121, Validation Accuracy: 0.6046000123023987\n",
      "Epoch 38, CIFAR-10 Batch 4:  Loss: 0.7246075868606567, Validation Accuracy: 0.6037999987602234\n",
      "Epoch 38, CIFAR-10 Batch 5:  Loss: 0.808256983757019, Validation Accuracy: 0.6082000136375427\n",
      "Epoch 39, CIFAR-10 Batch 1:  Loss: 0.9636518359184265, Validation Accuracy: 0.5856000185012817\n",
      "Epoch 39, CIFAR-10 Batch 2:  Loss: 0.8010393381118774, Validation Accuracy: 0.5971999764442444\n",
      "Epoch 39, CIFAR-10 Batch 3:  Loss: 0.7462137341499329, Validation Accuracy: 0.6079999804496765\n",
      "Epoch 39, CIFAR-10 Batch 4:  Loss: 0.7621375322341919, Validation Accuracy: 0.599399983882904\n",
      "Epoch 39, CIFAR-10 Batch 5:  Loss: 0.8396097421646118, Validation Accuracy: 0.5907999873161316\n",
      "Epoch 40, CIFAR-10 Batch 1:  Loss: 0.9319659471511841, Validation Accuracy: 0.5965999960899353\n",
      "Epoch 40, CIFAR-10 Batch 2:  Loss: 0.735517144203186, Validation Accuracy: 0.5974000096321106\n",
      "Epoch 40, CIFAR-10 Batch 3:  Loss: 0.775667130947113, Validation Accuracy: 0.59579998254776\n",
      "Epoch 40, CIFAR-10 Batch 4:  Loss: 0.7160153388977051, Validation Accuracy: 0.6010000109672546\n",
      "Epoch 40, CIFAR-10 Batch 5:  Loss: 0.8169624209403992, Validation Accuracy: 0.6000000238418579\n"
     ]
    }
   ],
   "source": [
    "\"\"\"\n",
    "DON'T MODIFY ANYTHING IN THIS CELL\n",
    "\"\"\"\n",
    "save_model_path = './image_classification'\n",
    "\n",
    "print('Training...')\n",
    "with tf.Session() as sess:\n",
    "    # Initializing the variables\n",
    "    sess.run(tf.global_variables_initializer())\n",
    "    \n",
    "    # Training cycle\n",
    "    for epoch in range(epochs):\n",
    "        # Loop over all batches\n",
    "        n_batches = 5\n",
    "        for batch_i in range(1, n_batches + 1):\n",
    "            for batch_features, batch_labels in helper.load_preprocess_training_batch(batch_i, batch_size):\n",
    "                train_neural_network(sess, optimizer, keep_probability, batch_features, batch_labels)\n",
    "            print('Epoch {:>2}, CIFAR-10 Batch {}:  '.format(epoch + 1, batch_i), end='')\n",
    "            print_stats(sess, batch_features, batch_labels, cost, accuracy)\n",
    "            \n",
    "    # Save Model\n",
    "    saver = tf.train.Saver()\n",
    "    save_path = saver.save(sess, save_model_path)"
   ]
  },
  {
   "cell_type": "markdown",
   "metadata": {},
   "source": [
    "# Checkpoint\n",
    "The model has been saved to disk.\n",
    "## Test Model\n",
    "Test your model against the test dataset.  This will be your final accuracy. You should have an accuracy greater than 50%. If you don't, keep tweaking the model architecture and parameters."
   ]
  },
  {
   "cell_type": "code",
   "execution_count": 136,
   "metadata": {},
   "outputs": [
    {
     "name": "stdout",
     "output_type": "stream",
     "text": [
      "INFO:tensorflow:Restoring parameters from ./image_classification\n",
      "Testing Accuracy: 0.6020103503184714\n",
      "\n"
     ]
    },
    {
     "data": {
      "image/png": "[encoded data removed]",
      "text/plain": [
       "<matplotlib.figure.Figure at 0x191370f10f0>"
      ]
     },
     "metadata": {
      "image/png": {
       "height": 319,
       "width": 355
      }
     },
     "output_type": "display_data"
    }
   ],
   "source": [
    "\"\"\"\n",
    "DON'T MODIFY ANYTHING IN THIS CELL\n",
    "\"\"\"\n",
    "%matplotlib inline\n",
    "%config InlineBackend.figure_format = 'retina'\n",
    "\n",
    "import tensorflow as tf\n",
    "import pickle\n",
    "import helper\n",
    "import random\n",
    "\n",
    "# Set batch size if not already set\n",
    "try:\n",
    "    if batch_size:\n",
    "        pass\n",
    "except NameError:\n",
    "    batch_size = 64\n",
    "\n",
    "save_model_path = './image_classification'\n",
    "n_samples = 4\n",
    "top_n_predictions = 3\n",
    "\n",
    "def test_model():\n",
    "    \"\"\"\n",
    "    Test the saved model against the test dataset\n",
    "    \"\"\"\n",
    "\n",
    "    test_features, test_labels = pickle.load(open('preprocess_test.p', mode='rb'))\n",
    "    loaded_graph = tf.Graph()\n",
    "\n",
    "    with tf.Session(graph=loaded_graph) as sess:\n",
    "        # Load model\n",
    "        loader = tf.train.import_meta_graph(save_model_path + '.meta')\n",
    "        loader.restore(sess, save_model_path)\n",
    "\n",
    "        # Get Tensors from loaded model\n",
    "        loaded_x = loaded_graph.get_tensor_by_name('x:0')\n",
    "        loaded_y = loaded_graph.get_tensor_by_name('y:0')\n",
    "        loaded_keep_prob = loaded_graph.get_tensor_by_name('keep_prob:0')\n",
    "        loaded_logits = loaded_graph.get_tensor_by_name('logits:0')\n",
    "        loaded_acc = loaded_graph.get_tensor_by_name('accuracy:0')\n",
    "        \n",
    "        # Get accuracy in batches for memory limitations\n",
    "        test_batch_acc_total = 0\n",
    "        test_batch_count = 0\n",
    "        \n",
    "        for test_feature_batch, test_label_batch in helper.batch_features_labels(test_features, test_labels, batch_size):\n",
    "            test_batch_acc_total += sess.run(\n",
    "                loaded_acc,\n",
    "                feed_dict={loaded_x: test_feature_batch, loaded_y: test_label_batch, loaded_keep_prob: 1.0})\n",
    "            test_batch_count += 1\n",
    "\n",
    "        print('Testing Accuracy: {}\\n'.format(test_batch_acc_total/test_batch_count))\n",
    "\n",
    "        # Print Random Samples\n",
    "        random_test_features, random_test_labels = tuple(zip(*random.sample(list(zip(test_features, test_labels)), n_samples)))\n",
    "        random_test_predictions = sess.run(\n",
    "            tf.nn.top_k(tf.nn.softmax(loaded_logits), top_n_predictions),\n",
    "            feed_dict={loaded_x: random_test_features, loaded_y: random_test_labels, loaded_keep_prob: 1.0})\n",
    "        helper.display_image_predictions(random_test_features, random_test_labels, random_test_predictions)\n",
    "\n",
    "\n",
    "test_model()"
   ]
  },
  {
   "cell_type": "markdown",
   "metadata": {},
   "source": [
    "## Why 50-80% Accuracy?\n",
    "You might be wondering why you can't get an accuracy any higher. First things first, 50% isn't bad for a simple CNN.  Pure guessing would get you 10% accuracy. However, you might notice people are getting scores [well above 80%](http://rodrigob.github.io/are_we_there_yet/build/classification_datasets_results.html#43494641522d3130).  That's because we haven't taught you all there is to know about neural networks. We still need to cover a few more techniques.\n",
    "## Submitting This Project\n",
    "When submitting this project, make sure to run all the cells before saving the notebook.  Save the notebook file as \"dlnd_image_classification.ipynb\" and save it as a HTML file under \"File\" -> \"Download as\".  Include the \"helper.py\" and \"problem_unittests.py\" files in your submission."
   ]
  }
 ],
 "metadata": {
  "kernelspec": {
   "display_name": "Python 3",
   "language": "python",
   "name": "python3"
  },
  "language_info": {
   "codemirror_mode": {
    "name": "ipython",
    "version": 3
   },
   "file_extension": ".py",
   "mimetype": "text/x-python",
   "name": "python",
   "nbconvert_exporter": "python",
   "pygments_lexer": "ipython3",
   "version": "3.6.2"
  }
 },
 "nbformat": 4,
 "nbformat_minor": 1
}
