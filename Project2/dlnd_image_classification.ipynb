{
 "cells": [
  {
   "cell_type": "markdown",
   "metadata": {
    "collapsed": true
   },
   "source": [
    "# Image Classification\n",
    "In this project, you'll classify images from the [CIFAR-10 dataset](https://www.cs.toronto.edu/~kriz/cifar.html).  The dataset consists of airplanes, dogs, cats, and other objects. You'll preprocess the images, then train a convolutional neural network on all the samples. The images need to be normalized and the labels need to be one-hot encoded.  You'll get to apply what you learned and build a convolutional, max pooling, dropout, and fully connected layers.  At the end, you'll get to see your neural network's predictions on the sample images.\n",
    "## Get the Data\n",
    "Run the following cell to download the [CIFAR-10 dataset for python](https://www.cs.toronto.edu/~kriz/cifar-10-python.tar.gz)."
   ]
  },
  {
   "cell_type": "code",
   "execution_count": 4,
   "metadata": {},
   "outputs": [
    {
     "name": "stdout",
     "output_type": "stream",
     "text": [
      "All files found!\n"
     ]
    }
   ],
   "source": [
    "\"\"\"\n",
    "DON'T MODIFY ANYTHING IN THIS CELL THAT IS BELOW THIS LINE\n",
    "\"\"\"\n",
    "from urllib.request import urlretrieve\n",
    "from os.path import isfile, isdir\n",
    "from tqdm import tqdm\n",
    "import problem_unittests as tests\n",
    "import tarfile\n",
    "\n",
    "cifar10_dataset_folder_path = 'cifar-10-batches-py'\n",
    "\n",
    "# Use Floyd's cifar-10 dataset if present\n",
    "floyd_cifar10_location = '/input/cifar-10/python.tar.gz'\n",
    "if isfile(floyd_cifar10_location):\n",
    "    tar_gz_path = floyd_cifar10_location\n",
    "else:\n",
    "    tar_gz_path = 'cifar-10-python.tar.gz'\n",
    "\n",
    "class DLProgress(tqdm):\n",
    "    last_block = 0\n",
    "\n",
    "    def hook(self, block_num=1, block_size=1, total_size=None):\n",
    "        self.total = total_size\n",
    "        self.update((block_num - self.last_block) * block_size)\n",
    "        self.last_block = block_num\n",
    "\n",
    "if not isfile(tar_gz_path):\n",
    "    with DLProgress(unit='B', unit_scale=True, miniters=1, desc='CIFAR-10 Dataset') as pbar:\n",
    "        urlretrieve(\n",
    "            'https://www.cs.toronto.edu/~kriz/cifar-10-python.tar.gz',\n",
    "            tar_gz_path,\n",
    "            pbar.hook)\n",
    "\n",
    "if not isdir(cifar10_dataset_folder_path):\n",
    "    with tarfile.open(tar_gz_path) as tar:\n",
    "        tar.extractall()\n",
    "        tar.close()\n",
    "\n",
    "\n",
    "tests.test_folder_path(cifar10_dataset_folder_path)"
   ]
  },
  {
   "cell_type": "markdown",
   "metadata": {},
   "source": [
    "## Explore the Data\n",
    "The dataset is broken into batches to prevent your machine from running out of memory.  The CIFAR-10 dataset consists of 5 batches, named `data_batch_1`, `data_batch_2`, etc.. Each batch contains the labels and images that are one of the following:\n",
    "* airplane\n",
    "* automobile\n",
    "* bird\n",
    "* cat\n",
    "* deer\n",
    "* dog\n",
    "* frog\n",
    "* horse\n",
    "* ship\n",
    "* truck\n",
    "\n",
    "Understanding a dataset is part of making predictions on the data.  Play around with the code cell below by changing the `batch_id` and `sample_id`. The `batch_id` is the id for a batch (1-5). The `sample_id` is the id for a image and label pair in the batch.\n",
    "\n",
    "Ask yourself \"What are all possible labels?\", \"What is the range of values for the image data?\", \"Are the labels in order or random?\".  Answers to questions like these will help you preprocess the data and end up with better predictions."
   ]
  },
  {
   "cell_type": "code",
   "execution_count": 5,
   "metadata": {},
   "outputs": [
    {
     "name": "stdout",
     "output_type": "stream",
     "text": [
      "\n",
      "Stats of batch 1:\n",
      "Samples: 10000\n",
      "Label Counts: {0: 1005, 1: 974, 2: 1032, 3: 1016, 4: 999, 5: 937, 6: 1030, 7: 1001, 8: 1025, 9: 981}\n",
      "First 20 Labels: [6, 9, 9, 4, 1, 1, 2, 7, 8, 3, 4, 7, 7, 2, 9, 9, 9, 3, 2, 6]\n",
      "\n",
      "Example of Image 5:\n",
      "Image - Min Value: 0 Max Value: 252\n",
      "Image - Shape: (32, 32, 3)\n",
      "Label - Label Id: 1 Name: automobile\n"
     ]
    },
    {
     "data": {
      "image/png": "[encoded data removed]",
      "text/plain": [
       "<matplotlib.figure.Figure at 0x2918dece748>"
      ]
     },
     "metadata": {
      "image/png": {
       "height": 250,
       "width": 253
      }
     },
     "output_type": "display_data"
    }
   ],
   "source": [
    "%matplotlib inline\n",
    "%config InlineBackend.figure_format = 'retina'\n",
    "\n",
    "import helper\n",
    "import numpy as np\n",
    "\n",
    "# Explore the dataset\n",
    "batch_id = 1\n",
    "sample_id = 5\n",
    "helper.display_stats(cifar10_dataset_folder_path, batch_id, sample_id)"
   ]
  },
  {
   "cell_type": "markdown",
   "metadata": {},
   "source": [
    "## Implement Preprocess Functions\n",
    "### Normalize\n",
    "In the cell below, implement the `normalize` function to take in image data, `x`, and return it as a normalized Numpy array. The values should be in the range of 0 to 1, inclusive.  The return object should be the same shape as `x`."
   ]
  },
  {
   "cell_type": "code",
   "execution_count": 6,
   "metadata": {},
   "outputs": [
    {
     "name": "stdout",
     "output_type": "stream",
     "text": [
      "Tests Passed\n"
     ]
    }
   ],
   "source": [
    "def normalize(x):\n",
    "    \"\"\"\n",
    "    Normalize a list of sample image data in the range of 0 to 1\n",
    "    : x: List of image data.  The image shape is (32, 32, 3)\n",
    "    : return: Numpy array of normalize data\n",
    "    \"\"\"\n",
    "    return np.array(x) / 255\n",
    "\n",
    "\n",
    "\"\"\"\n",
    "DON'T MODIFY ANYTHING IN THIS CELL THAT IS BELOW THIS LINE\n",
    "\"\"\"\n",
    "tests.test_normalize(normalize)"
   ]
  },
  {
   "cell_type": "markdown",
   "metadata": {},
   "source": [
    "### One-hot encode\n",
    "Just like the previous code cell, you'll be implementing a function for preprocessing.  This time, you'll implement the `one_hot_encode` function. The input, `x`, are a list of labels.  Implement the function to return the list of labels as One-Hot encoded Numpy array.  The possible values for labels are 0 to 9. The one-hot encoding function should return the same encoding for each value between each call to `one_hot_encode`.  Make sure to save the map of encodings outside the function.\n",
    "\n",
    "Hint: Don't reinvent the wheel."
   ]
  },
  {
   "cell_type": "code",
   "execution_count": 10,
   "metadata": {},
   "outputs": [
    {
     "name": "stdout",
     "output_type": "stream",
     "text": [
      "Tests Passed\n"
     ]
    }
   ],
   "source": [
    "def one_hot_encode(x):\n",
    "    \"\"\"\n",
    "    One hot encode a list of sample labels. Return a one-hot encoded vector for each label.\n",
    "    : x: List of sample Labels\n",
    "    : return: Numpy array of one-hot encoded labels\n",
    "    \"\"\"\n",
    "    one_hot = np.zeros((len(x), 10))\n",
    "    for i in range(len(x)):\n",
    "        one_hot[i][x[i]] = 1\n",
    "    return one_hot\n",
    "\n",
    "\n",
    "\"\"\"\n",
    "DON'T MODIFY ANYTHING IN THIS CELL THAT IS BELOW THIS LINE\n",
    "\"\"\"\n",
    "tests.test_one_hot_encode(one_hot_encode)"
   ]
  },
  {
   "cell_type": "markdown",
   "metadata": {},
   "source": [
    "### Randomize Data\n",
    "As you saw from exploring the data above, the order of the samples are randomized.  It doesn't hurt to randomize it again, but you don't need to for this dataset."
   ]
  },
  {
   "cell_type": "markdown",
   "metadata": {},
   "source": [
    "## Preprocess all the data and save it\n",
    "Running the code cell below will preprocess all the CIFAR-10 data and save it to file. The code below also uses 10% of the training data for validation."
   ]
  },
  {
   "cell_type": "code",
   "execution_count": 11,
   "metadata": {
    "collapsed": true
   },
   "outputs": [],
   "source": [
    "\"\"\"\n",
    "DON'T MODIFY ANYTHING IN THIS CELL\n",
    "\"\"\"\n",
    "# Preprocess Training, Validation, and Testing Data\n",
    "helper.preprocess_and_save_data(cifar10_dataset_folder_path, normalize, one_hot_encode)"
   ]
  },
  {
   "cell_type": "markdown",
   "metadata": {},
   "source": [
    "# Check Point\n",
    "This is your first checkpoint.  If you ever decide to come back to this notebook or have to restart the notebook, you can start from here.  The preprocessed data has been saved to disk."
   ]
  },
  {
   "cell_type": "code",
   "execution_count": 1,
   "metadata": {
    "collapsed": true
   },
   "outputs": [],
   "source": [
    "\"\"\"\n",
    "DON'T MODIFY ANYTHING IN THIS CELL\n",
    "\"\"\"\n",
    "import pickle\n",
    "import problem_unittests as tests\n",
    "import helper\n",
    "\n",
    "# Load the Preprocessed Validation data\n",
    "valid_features, valid_labels = pickle.load(open('preprocess_validation.p', mode='rb'))"
   ]
  },
  {
   "cell_type": "markdown",
   "metadata": {},
   "source": [
    "## Build the network\n",
    "For the neural network, you'll build each layer into a function.  Most of the code you've seen has been outside of functions. To test your code more thoroughly, we require that you put each layer in a function.  This allows us to give you better feedback and test for simple mistakes using our unittests before you submit your project.\n",
    "\n",
    ">**Note:** If you're finding it hard to dedicate enough time for this course each week, we've provided a small shortcut to this part of the project. In the next couple of problems, you'll have the option to use classes from the [TensorFlow Layers](https://www.tensorflow.org/api_docs/python/tf/layers) or [TensorFlow Layers (contrib)](https://www.tensorflow.org/api_guides/python/contrib.layers) packages to build each layer, except the layers you build in the \"Convolutional and Max Pooling Layer\" section.  TF Layers is similar to Keras's and TFLearn's abstraction to layers, so it's easy to pickup.\n",
    "\n",
    ">However, if you would like to get the most out of this course, try to solve all the problems _without_ using anything from the TF Layers packages. You **can** still use classes from other packages that happen to have the same name as ones you find in TF Layers! For example, instead of using the TF Layers version of the `conv2d` class, [tf.layers.conv2d](https://www.tensorflow.org/api_docs/python/tf/layers/conv2d), you would want to use the TF Neural Network version of `conv2d`, [tf.nn.conv2d](https://www.tensorflow.org/api_docs/python/tf/nn/conv2d). \n",
    "\n",
    "Let's begin!\n",
    "\n",
    "### Input\n",
    "The neural network needs to read the image data, one-hot encoded labels, and dropout keep probability. Implement the following functions\n",
    "* Implement `neural_net_image_input`\n",
    " * Return a [TF Placeholder](https://www.tensorflow.org/api_docs/python/tf/placeholder)\n",
    " * Set the shape using `image_shape` with batch size set to `None`.\n",
    " * Name the TensorFlow placeholder \"x\" using the TensorFlow `name` parameter in the [TF Placeholder](https://www.tensorflow.org/api_docs/python/tf/placeholder).\n",
    "* Implement `neural_net_label_input`\n",
    " * Return a [TF Placeholder](https://www.tensorflow.org/api_docs/python/tf/placeholder)\n",
    " * Set the shape using `n_classes` with batch size set to `None`.\n",
    " * Name the TensorFlow placeholder \"y\" using the TensorFlow `name` parameter in the [TF Placeholder](https://www.tensorflow.org/api_docs/python/tf/placeholder).\n",
    "* Implement `neural_net_keep_prob_input`\n",
    " * Return a [TF Placeholder](https://www.tensorflow.org/api_docs/python/tf/placeholder) for dropout keep probability.\n",
    " * Name the TensorFlow placeholder \"keep_prob\" using the TensorFlow `name` parameter in the [TF Placeholder](https://www.tensorflow.org/api_docs/python/tf/placeholder).\n",
    "\n",
    "These names will be used at the end of the project to load your saved model.\n",
    "\n",
    "Note: `None` for shapes in TensorFlow allow for a dynamic size."
   ]
  },
  {
   "cell_type": "code",
   "execution_count": 7,
   "metadata": {},
   "outputs": [
    {
     "name": "stdout",
     "output_type": "stream",
     "text": [
      "Image Input Tests Passed.\n",
      "Label Input Tests Passed.\n",
      "Keep Prob Tests Passed.\n"
     ]
    }
   ],
   "source": [
    "import tensorflow as tf\n",
    "\n",
    "def neural_net_image_input(image_shape):\n",
    "    \"\"\"\n",
    "    Return a Tensor for a batch of image input\n",
    "    : image_shape: Shape of the images\n",
    "    : return: Tensor for image input.\n",
    "    \"\"\"\n",
    "    return tf.placeholder(tf.float32, shape=(None, image_shape[0], image_shape[1], image_shape[2]), name=\"x\")\n",
    "\n",
    "\n",
    "def neural_net_label_input(n_classes):\n",
    "    \"\"\"\n",
    "    Return a Tensor for a batch of label input\n",
    "    : n_classes: Number of classes\n",
    "    : return: Tensor for label input.\n",
    "    \"\"\"\n",
    "    # TODO: Implement Function\n",
    "    return tf.placeholder(tf.int32, shape=(None, n_classes), name=\"y\")\n",
    "\n",
    "\n",
    "def neural_net_keep_prob_input():\n",
    "    \"\"\"\n",
    "    Return a Tensor for keep probability\n",
    "    : return: Tensor for keep probability.\n",
    "    \"\"\"\n",
    "    # TODO: Implement Function\n",
    "    return tf.placeholder(tf.float32, name=\"keep_prob\")\n",
    "\n",
    "\n",
    "\"\"\"\n",
    "DON'T MODIFY ANYTHING IN THIS CELL THAT IS BELOW THIS LINE\n",
    "\"\"\"\n",
    "tf.reset_default_graph()\n",
    "tests.test_nn_image_inputs(neural_net_image_input)\n",
    "tests.test_nn_label_inputs(neural_net_label_input)\n",
    "tests.test_nn_keep_prob_inputs(neural_net_keep_prob_input)"
   ]
  },
  {
   "cell_type": "markdown",
   "metadata": {},
   "source": [
    "### Convolution and Max Pooling Layer\n",
    "Convolution layers have a lot of success with images. For this code cell, you should implement the function `conv2d_maxpool` to apply convolution then max pooling:\n",
    "* Create the weight and bias using `conv_ksize`, `conv_num_outputs` and the shape of `x_tensor`.\n",
    "* Apply a convolution to `x_tensor` using weight and `conv_strides`.\n",
    " * We recommend you use same padding, but you're welcome to use any padding.\n",
    "* Add bias\n",
    "* Add a nonlinear activation to the convolution.\n",
    "* Apply Max Pooling using `pool_ksize` and `pool_strides`.\n",
    " * We recommend you use same padding, but you're welcome to use any padding.\n",
    "\n",
    "**Note:** You **can't** use [TensorFlow Layers](https://www.tensorflow.org/api_docs/python/tf/layers) or [TensorFlow Layers (contrib)](https://www.tensorflow.org/api_guides/python/contrib.layers) for **this** layer, but you can still use TensorFlow's [Neural Network](https://www.tensorflow.org/api_docs/python/tf/nn) package. You may still use the shortcut option for all the **other** layers."
   ]
  },
  {
   "cell_type": "code",
   "execution_count": 8,
   "metadata": {},
   "outputs": [
    {
     "name": "stdout",
     "output_type": "stream",
     "text": [
      "Tests Passed\n"
     ]
    }
   ],
   "source": [
    "def conv2d_maxpool(x_tensor, conv_num_outputs, conv_ksize, conv_strides, pool_ksize, pool_strides):\n",
    "    \"\"\"\n",
    "    Apply convolution then max pooling to x_tensor\n",
    "    :param x_tensor: TensorFlow Tensor\n",
    "    :param conv_num_outputs: Number of outputs for the convolutional layer\n",
    "    :param conv_ksize: kernal size 2-D Tuple for the convolutional layer\n",
    "    :param conv_strides: Stride 2-D Tuple for convolution\n",
    "    :param pool_ksize: kernal size 2-D Tuple for pool\n",
    "    :param pool_strides: Stride 2-D Tuple for pool\n",
    "    : return: A tensor that represents convolution and max pooling of x_tensor\n",
    "    \"\"\"\n",
    "    # TODO: Implement Function\n",
    "    x_tensor = tf.cast(x_tensor, tf.float32)\n",
    "    filter_W = tf.Variable(tf.truncated_normal((conv_ksize[0], conv_ksize[1], int(x_tensor.shape[3]), conv_num_outputs),\n",
    "                                              stddev=0.1))\n",
    "    filter_b = tf.Variable(tf.zeros(conv_num_outputs))\n",
    "    \n",
    "    conv_strides = (1, conv_strides[0], conv_strides[1], 1)\n",
    "    pool_strides = (1, pool_strides[0], pool_strides[1], 1)\n",
    "    pool_ksize = (1, pool_ksize[0], pool_ksize[1], 1)\n",
    "    \n",
    "    conv_layer = tf.nn.relu(tf.nn.conv2d(x_tensor, filter_W, conv_strides, \"SAME\") + filter_b)\n",
    "    pool_layer = tf.nn.max_pool(conv_layer, pool_ksize, pool_strides, \"SAME\")\n",
    "    \n",
    "    return pool_layer\n",
    "\n",
    "\n",
    "\"\"\"\n",
    "DON'T MODIFY ANYTHING IN THIS CELL THAT IS BELOW THIS LINE\n",
    "\"\"\"\n",
    "tests.test_con_pool(conv2d_maxpool)"
   ]
  },
  {
   "cell_type": "markdown",
   "metadata": {},
   "source": [
    "### Flatten Layer\n",
    "Implement the `flatten` function to change the dimension of `x_tensor` from a 4-D tensor to a 2-D tensor.  The output should be the shape (*Batch Size*, *Flattened Image Size*). Shortcut option: you can use classes from the [TensorFlow Layers](https://www.tensorflow.org/api_docs/python/tf/layers) or [TensorFlow Layers (contrib)](https://www.tensorflow.org/api_guides/python/contrib.layers) packages for this layer. For more of a challenge, only use other TensorFlow packages."
   ]
  },
  {
   "cell_type": "code",
   "execution_count": 9,
   "metadata": {},
   "outputs": [
    {
     "name": "stdout",
     "output_type": "stream",
     "text": [
      "Tests Passed\n"
     ]
    }
   ],
   "source": [
    "def flatten(x_tensor):\n",
    "    \"\"\"\n",
    "    Flatten x_tensor to (Batch Size, Flattened Image Size)\n",
    "    : x_tensor: A tensor of size (Batch Size, ...), where ... are the image dimensions.\n",
    "    : return: A tensor of size (Batch Size, Flattened Image Size).\n",
    "    \"\"\"\n",
    "    # TODO: Implement Function\n",
    "    flattened_image_size = int(x_tensor.shape[1])*int(x_tensor.shape[2]) * int(x_tensor.shape[3])\n",
    "    \n",
    "    return tf.reshape(x_tensor, [-1, flattened_image_size])\n",
    "\n",
    "\n",
    "\n",
    "\"\"\"\n",
    "DON'T MODIFY ANYTHING IN THIS CELL THAT IS BELOW THIS LINE\n",
    "\"\"\"\n",
    "tests.test_flatten(flatten)"
   ]
  },
  {
   "cell_type": "markdown",
   "metadata": {},
   "source": [
    "### Fully-Connected Layer\n",
    "Implement the `fully_conn` function to apply a fully connected layer to `x_tensor` with the shape (*Batch Size*, *num_outputs*). Shortcut option: you can use classes from the [TensorFlow Layers](https://www.tensorflow.org/api_docs/python/tf/layers) or [TensorFlow Layers (contrib)](https://www.tensorflow.org/api_guides/python/contrib.layers) packages for this layer. For more of a challenge, only use other TensorFlow packages."
   ]
  },
  {
   "cell_type": "code",
   "execution_count": 10,
   "metadata": {},
   "outputs": [
    {
     "name": "stdout",
     "output_type": "stream",
     "text": [
      "Tests Passed\n"
     ]
    }
   ],
   "source": [
    "def fully_conn(x_tensor, num_outputs):\n",
    "    \"\"\"\n",
    "    Apply a fully connected layer to x_tensor using weight and bias\n",
    "    : x_tensor: A 2-D tensor where the first dimension is batch size.\n",
    "    : num_outputs: The number of output that the new tensor should be.\n",
    "    : return: A 2-D tensor where the second dimension is num_outputs.\n",
    "    \"\"\"\n",
    "    # TODO: Implement Function\n",
    "    fc_W = tf.Variable(tf.truncated_normal((int(x_tensor.shape[1]), num_outputs), stddev=0.1))\n",
    "    fc_b = tf.Variable(tf.zeros(num_outputs))\n",
    "    return tf.nn.relu(tf.matmul(x_tensor, fc_W) + fc_b)\n",
    "\n",
    "\n",
    "\"\"\"\n",
    "DON'T MODIFY ANYTHING IN THIS CELL THAT IS BELOW THIS LINE\n",
    "\"\"\"\n",
    "tests.test_fully_conn(fully_conn)"
   ]
  },
  {
   "cell_type": "markdown",
   "metadata": {},
   "source": [
    "### Output Layer\n",
    "Implement the `output` function to apply a fully connected layer to `x_tensor` with the shape (*Batch Size*, *num_outputs*). Shortcut option: you can use classes from the [TensorFlow Layers](https://www.tensorflow.org/api_docs/python/tf/layers) or [TensorFlow Layers (contrib)](https://www.tensorflow.org/api_guides/python/contrib.layers) packages for this layer. For more of a challenge, only use other TensorFlow packages.\n",
    "\n",
    "**Note:** Activation, softmax, or cross entropy should **not** be applied to this."
   ]
  },
  {
   "cell_type": "code",
   "execution_count": 11,
   "metadata": {},
   "outputs": [
    {
     "name": "stdout",
     "output_type": "stream",
     "text": [
      "Tests Passed\n"
     ]
    }
   ],
   "source": [
    "def output(x_tensor, num_outputs):\n",
    "    \"\"\"\n",
    "    Apply a output layer to x_tensor using weight and bias\n",
    "    : x_tensor: A 2-D tensor where the first dimension is batch size.\n",
    "    : num_outputs: The number of output that the new tensor should be.\n",
    "    : return: A 2-D tensor where the second dimension is num_outputs.\n",
    "    \"\"\"\n",
    "    output_W = tf.Variable(tf.truncated_normal((int(x_tensor.shape[1]), num_outputs)))\n",
    "    output_b = tf.Variable(tf.zeros(num_outputs))\n",
    "    return tf.matmul(x_tensor, output_W) + output_b\n",
    "\n",
    "\n",
    "\"\"\"\n",
    "DON'T MODIFY ANYTHING IN THIS CELL THAT IS BELOW THIS LINE\n",
    "\"\"\"\n",
    "tests.test_output(output)"
   ]
  },
  {
   "cell_type": "markdown",
   "metadata": {},
   "source": [
    "### Create Convolutional Model\n",
    "Implement the function `conv_net` to create a convolutional neural network model. The function takes in a batch of images, `x`, and outputs logits.  Use the layers you created above to create this model:\n",
    "\n",
    "* Apply 1, 2, or 3 Convolution and Max Pool layers\n",
    "* Apply a Flatten Layer\n",
    "* Apply 1, 2, or 3 Fully Connected Layers\n",
    "* Apply an Output Layer\n",
    "* Return the output\n",
    "* Apply [TensorFlow's Dropout](https://www.tensorflow.org/api_docs/python/tf/nn/dropout) to one or more layers in the model using `keep_prob`. "
   ]
  },
  {
   "cell_type": "code",
   "execution_count": 21,
   "metadata": {},
   "outputs": [
    {
     "name": "stdout",
     "output_type": "stream",
     "text": [
      "Neural Network Built!\n"
     ]
    }
   ],
   "source": [
    "def conv_net(x, keep_prob):\n",
    "    \"\"\"\n",
    "    Create a convolutional neural network model\n",
    "    : x: Placeholder tensor that holds image data.\n",
    "    : keep_prob: Placeholder tensor that hold dropout keep probability.\n",
    "    : return: Tensor that represents logits\n",
    "    \"\"\"\n",
    "    # Apply 1, 2, or 3 Convolution and Max Pool layers\n",
    "    #    Play around with different number of outputs, kernel size and stride\n",
    "    # Function Definition from Above:\n",
    "    #    conv2d_maxpool(x_tensor, conv_num_outputs, conv_ksize, conv_strides, pool_ksize, pool_strides)\n",
    "    conv_ksize = (5, 5)\n",
    "    conv_strides = (1, 1)\n",
    "    pool_ksize = (2, 2)\n",
    "    pool_strides = (2, 2)\n",
    "    \n",
    "    conv1 = conv2d_maxpool(x, 5, conv_ksize, conv_strides, pool_ksize, pool_strides)\n",
    "    conv2 = conv2d_maxpool(conv1, 10, conv_ksize, conv_strides, pool_ksize, pool_strides)\n",
    "    conv3 = conv2d_maxpool(conv2, 35, conv_ksize, conv_strides, pool_ksize, pool_strides)\n",
    "\n",
    "    # Apply a Flatten Layer\n",
    "    # Function Definition from Above:\n",
    "    #   flatten(x_tensor)\n",
    "    flat = flatten(conv2)\n",
    "\n",
    "    # Apply 1, 2, or 3 Fully Connected Layers\n",
    "    #    Play around with different number of outputs\n",
    "    # Function Definition from Above:\n",
    "    #   fully_conn(x_tensor, num_outputs)\n",
    "    fc1 = tf.nn.dropout(fully_conn(flat, 80), keep_prob)\n",
    "    \n",
    "    # Apply an Output Layer\n",
    "    #    Set this to the number of classes\n",
    "    # Function Definition from Above:\n",
    "    #   output(x_tensor, num_outputs)\n",
    "    y_hat = output(fc1, 10)\n",
    "    \n",
    "    # return output\n",
    "    return y_hat\n",
    "\n",
    "\n",
    "\"\"\"\n",
    "DON'T MODIFY ANYTHING IN THIS CELL THAT IS BELOW THIS LINE\n",
    "\"\"\"\n",
    "\n",
    "##############################\n",
    "## Build the Neural Network ##\n",
    "##############################\n",
    "\n",
    "# Remove previous weights, bias, inputs, etc..\n",
    "tf.reset_default_graph()\n",
    "\n",
    "# Inputs\n",
    "x = neural_net_image_input((32, 32, 3))\n",
    "y = neural_net_label_input(10)\n",
    "keep_prob = neural_net_keep_prob_input()\n",
    "\n",
    "# Model\n",
    "logits = conv_net(x, keep_prob)\n",
    "\n",
    "# Name logits Tensor, so that is can be loaded from disk after training\n",
    "logits = tf.identity(logits, name='logits')\n",
    "\n",
    "# Loss and Optimizer\n",
    "cost = tf.reduce_mean(tf.nn.softmax_cross_entropy_with_logits(logits=logits, labels=y))\n",
    "optimizer = tf.train.AdamOptimizer().minimize(cost)\n",
    "\n",
    "# Accuracy\n",
    "correct_pred = tf.equal(tf.argmax(logits, 1), tf.argmax(y, 1))\n",
    "accuracy = tf.reduce_mean(tf.cast(correct_pred, tf.float32), name='accuracy')\n",
    "\n",
    "tests.test_conv_net(conv_net)"
   ]
  },
  {
   "cell_type": "markdown",
   "metadata": {},
   "source": [
    "## Train the Neural Network\n",
    "### Single Optimization\n",
    "Implement the function `train_neural_network` to do a single optimization.  The optimization should use `optimizer` to optimize in `session` with a `feed_dict` of the following:\n",
    "* `x` for image input\n",
    "* `y` for labels\n",
    "* `keep_prob` for keep probability for dropout\n",
    "\n",
    "This function will be called for each batch, so `tf.global_variables_initializer()` has already been called.\n",
    "\n",
    "Note: Nothing needs to be returned. This function is only optimizing the neural network."
   ]
  },
  {
   "cell_type": "code",
   "execution_count": 13,
   "metadata": {},
   "outputs": [
    {
     "name": "stdout",
     "output_type": "stream",
     "text": [
      "Tests Passed\n"
     ]
    }
   ],
   "source": [
    "def train_neural_network(session, optimizer, keep_probability, feature_batch, label_batch):\n",
    "    \"\"\"\n",
    "    Optimize the session on a batch of images and labels\n",
    "    : session: Current TensorFlow session\n",
    "    : optimizer: TensorFlow optimizer function\n",
    "    : keep_probability: keep probability\n",
    "    : feature_batch: Batch of Numpy image data\n",
    "    : label_batch: Batch of Numpy label data\n",
    "    \"\"\"\n",
    "    # TODO: Implement Function\n",
    "    session.run(optimizer,feed_dict={x: feature_batch, y: label_batch, keep_prob: keep_probability})\n",
    "    return None\n",
    "\n",
    "\n",
    "\"\"\"\n",
    "DON'T MODIFY ANYTHING IN THIS CELL THAT IS BELOW THIS LINE\n",
    "\"\"\"\n",
    "tests.test_train_nn(train_neural_network)"
   ]
  },
  {
   "cell_type": "markdown",
   "metadata": {},
   "source": [
    "### Show Stats\n",
    "Implement the function `print_stats` to print loss and validation accuracy.  Use the global variables `valid_features` and `valid_labels` to calculate validation accuracy.  Use a keep probability of `1.0` to calculate the loss and validation accuracy."
   ]
  },
  {
   "cell_type": "code",
   "execution_count": 14,
   "metadata": {
    "collapsed": true
   },
   "outputs": [],
   "source": [
    "def print_stats(session, feature_batch, label_batch, cost, accuracy):\n",
    "    \"\"\"\n",
    "    Print information about loss and validation accuracy\n",
    "    : session: Current TensorFlow session\n",
    "    : feature_batch: Batch of Numpy image data\n",
    "    : label_batch: Batch of Numpy label data\n",
    "    : cost: TensorFlow cost function\n",
    "    : accuracy: TensorFlow accuracy function\n",
    "    \"\"\"\n",
    "    global valid_features, valid_labels\n",
    "        \n",
    "    loss = session.run(cost, feed_dict={x: feature_batch, y: label_batch, keep_prob: 1.0})\n",
    "    val_accuracy = session.run(accuracy, feed_dict={x: valid_features, y: valid_labels, keep_prob: 1.0})\n",
    "    \n",
    "    print(\"Loss: {}, Validation Accuracy: {}\".format(loss, val_accuracy))\n",
    "    "
   ]
  },
  {
   "cell_type": "markdown",
   "metadata": {},
   "source": [
    "### Hyperparameters\n",
    "Tune the following parameters:\n",
    "* Set `epochs` to the number of iterations until the network stops learning or start overfitting\n",
    "* Set `batch_size` to the highest number that your machine has memory for.  Most people set them to common sizes of memory:\n",
    " * 64\n",
    " * 128\n",
    " * 256\n",
    " * ...\n",
    "* Set `keep_probability` to the probability of keeping a node using dropout"
   ]
  },
  {
   "cell_type": "code",
   "execution_count": 19,
   "metadata": {
    "collapsed": true
   },
   "outputs": [],
   "source": [
    "# TODO: Tune Parameters\n",
    "epochs = 40\n",
    "batch_size = 64\n",
    "keep_probability = 0.5"
   ]
  },
  {
   "cell_type": "markdown",
   "metadata": {},
   "source": [
    "### Train on a Single CIFAR-10 Batch\n",
    "Instead of training the neural network on all the CIFAR-10 batches of data, let's use a single batch. This should save time while you iterate on the model to get a better accuracy.  Once the final validation accuracy is 50% or greater, run the model on all the data in the next section."
   ]
  },
  {
   "cell_type": "code",
   "execution_count": 22,
   "metadata": {},
   "outputs": [
    {
     "name": "stdout",
     "output_type": "stream",
     "text": [
      "Checking the Training on a Single Batch...\n",
      "Epoch  1, CIFAR-10 Batch 1:  Loss: 2.266629934310913, Validation Accuracy: 0.14319999516010284\n",
      "Epoch  2, CIFAR-10 Batch 1:  Loss: 2.1899921894073486, Validation Accuracy: 0.25380000472068787\n",
      "Epoch  3, CIFAR-10 Batch 1:  Loss: 2.1250827312469482, Validation Accuracy: 0.33180001378059387\n",
      "Epoch  4, CIFAR-10 Batch 1:  Loss: 2.011662006378174, Validation Accuracy: 0.36059999465942383\n",
      "Epoch  5, CIFAR-10 Batch 1:  Loss: 1.9561094045639038, Validation Accuracy: 0.37380000948905945\n",
      "Epoch  6, CIFAR-10 Batch 1:  Loss: 1.8688652515411377, Validation Accuracy: 0.4092000126838684\n",
      "Epoch  7, CIFAR-10 Batch 1:  Loss: 1.7995250225067139, Validation Accuracy: 0.4052000045776367\n",
      "Epoch  8, CIFAR-10 Batch 1:  Loss: 1.7311007976531982, Validation Accuracy: 0.42179998755455017\n",
      "Epoch  9, CIFAR-10 Batch 1:  Loss: 1.6875677108764648, Validation Accuracy: 0.4277999997138977\n",
      "Epoch 10, CIFAR-10 Batch 1:  Loss: 1.6030495166778564, Validation Accuracy: 0.4487999975681305\n",
      "Epoch 11, CIFAR-10 Batch 1:  Loss: 1.5778605937957764, Validation Accuracy: 0.45100000500679016\n",
      "Epoch 12, CIFAR-10 Batch 1:  Loss: 1.5686352252960205, Validation Accuracy: 0.462799996137619\n",
      "Epoch 13, CIFAR-10 Batch 1:  Loss: 1.442480444908142, Validation Accuracy: 0.459199994802475\n",
      "Epoch 14, CIFAR-10 Batch 1:  Loss: 1.3585948944091797, Validation Accuracy: 0.4708000123500824\n",
      "Epoch 15, CIFAR-10 Batch 1:  Loss: 1.2918092012405396, Validation Accuracy: 0.4745999872684479\n",
      "Epoch 16, CIFAR-10 Batch 1:  Loss: 1.2715752124786377, Validation Accuracy: 0.46399998664855957\n",
      "Epoch 17, CIFAR-10 Batch 1:  Loss: 1.2221577167510986, Validation Accuracy: 0.48399999737739563\n",
      "Epoch 18, CIFAR-10 Batch 1:  Loss: 1.1490358114242554, Validation Accuracy: 0.48019999265670776\n",
      "Epoch 19, CIFAR-10 Batch 1:  Loss: 1.14436674118042, Validation Accuracy: 0.48660001158714294\n",
      "Epoch 20, CIFAR-10 Batch 1:  Loss: 1.133668303489685, Validation Accuracy: 0.49720001220703125\n",
      "Epoch 21, CIFAR-10 Batch 1:  Loss: 1.0811959505081177, Validation Accuracy: 0.48739999532699585\n",
      "Epoch 22, CIFAR-10 Batch 1:  Loss: 1.007033109664917, Validation Accuracy: 0.4970000088214874\n",
      "Epoch 23, CIFAR-10 Batch 1:  Loss: 1.028598427772522, Validation Accuracy: 0.49160000681877136\n",
      "Epoch 24, CIFAR-10 Batch 1:  Loss: 0.9929399490356445, Validation Accuracy: 0.4943999946117401\n",
      "Epoch 25, CIFAR-10 Batch 1:  Loss: 0.9630792737007141, Validation Accuracy: 0.5041999816894531\n",
      "Epoch 26, CIFAR-10 Batch 1:  Loss: 0.8702880144119263, Validation Accuracy: 0.49480000138282776\n",
      "Epoch 27, CIFAR-10 Batch 1:  Loss: 0.8403541445732117, Validation Accuracy: 0.49540001153945923\n",
      "Epoch 28, CIFAR-10 Batch 1:  Loss: 0.8216456174850464, Validation Accuracy: 0.48339998722076416\n",
      "Epoch 29, CIFAR-10 Batch 1:  Loss: 0.8346349000930786, Validation Accuracy: 0.5016000270843506\n",
      "Epoch 30, CIFAR-10 Batch 1:  Loss: 0.8494606018066406, Validation Accuracy: 0.5077999830245972\n",
      "Epoch 31, CIFAR-10 Batch 1:  Loss: 0.7852120399475098, Validation Accuracy: 0.5108000040054321\n",
      "Epoch 32, CIFAR-10 Batch 1:  Loss: 0.7318421006202698, Validation Accuracy: 0.5095999836921692\n",
      "Epoch 33, CIFAR-10 Batch 1:  Loss: 0.7909805774688721, Validation Accuracy: 0.5085999965667725\n",
      "Epoch 34, CIFAR-10 Batch 1:  Loss: 0.7723177671432495, Validation Accuracy: 0.5072000026702881\n",
      "Epoch 35, CIFAR-10 Batch 1:  Loss: 0.789605438709259, Validation Accuracy: 0.5072000026702881\n",
      "Epoch 36, CIFAR-10 Batch 1:  Loss: 0.7148048281669617, Validation Accuracy: 0.5170000195503235\n",
      "Epoch 37, CIFAR-10 Batch 1:  Loss: 0.6785374283790588, Validation Accuracy: 0.5117999911308289\n",
      "Epoch 38, CIFAR-10 Batch 1:  Loss: 0.6673239469528198, Validation Accuracy: 0.5120000243186951\n",
      "Epoch 39, CIFAR-10 Batch 1:  Loss: 0.6599390506744385, Validation Accuracy: 0.5070000290870667\n",
      "Epoch 40, CIFAR-10 Batch 1:  Loss: 0.6734747886657715, Validation Accuracy: 0.5112000107765198\n"
     ]
    }
   ],
   "source": [
    "\"\"\"\n",
    "DON'T MODIFY ANYTHING IN THIS CELL\n",
    "\"\"\"\n",
    "print('Checking the Training on a Single Batch...')\n",
    "with tf.Session() as sess:\n",
    "    # Initializing the variables\n",
    "    sess.run(tf.global_variables_initializer())\n",
    "    \n",
    "    # Training cycle\n",
    "    for epoch in range(epochs):\n",
    "        batch_i = 1\n",
    "        for batch_features, batch_labels in helper.load_preprocess_training_batch(batch_i, batch_size):\n",
    "            train_neural_network(sess, optimizer, keep_probability, batch_features, batch_labels)\n",
    "        print('Epoch {:>2}, CIFAR-10 Batch {}:  '.format(epoch + 1, batch_i), end='')\n",
    "        print_stats(sess, batch_features, batch_labels, cost, accuracy)"
   ]
  },
  {
   "cell_type": "markdown",
   "metadata": {},
   "source": [
    "### Fully Train the Model\n",
    "Now that you got a good accuracy with a single CIFAR-10 batch, try it with all five batches."
   ]
  },
  {
   "cell_type": "code",
   "execution_count": 23,
   "metadata": {},
   "outputs": [
    {
     "name": "stdout",
     "output_type": "stream",
     "text": [
      "Training...\n",
      "Epoch  1, CIFAR-10 Batch 1:  Loss: 2.1162986755371094, Validation Accuracy: 0.24860000610351562\n",
      "Epoch  1, CIFAR-10 Batch 2:  Loss: 1.9679855108261108, Validation Accuracy: 0.33899998664855957\n",
      "Epoch  1, CIFAR-10 Batch 3:  Loss: 1.61569082736969, Validation Accuracy: 0.3808000087738037\n",
      "Epoch  1, CIFAR-10 Batch 4:  Loss: 1.7437744140625, Validation Accuracy: 0.4016000032424927\n",
      "Epoch  1, CIFAR-10 Batch 5:  Loss: 1.674743413925171, Validation Accuracy: 0.41100001335144043\n",
      "Epoch  2, CIFAR-10 Batch 1:  Loss: 1.8771088123321533, Validation Accuracy: 0.4291999936103821\n",
      "Epoch  2, CIFAR-10 Batch 2:  Loss: 1.594465970993042, Validation Accuracy: 0.44040000438690186\n",
      "Epoch  2, CIFAR-10 Batch 3:  Loss: 1.3135212659835815, Validation Accuracy: 0.4472000002861023\n",
      "Epoch  2, CIFAR-10 Batch 4:  Loss: 1.43145751953125, Validation Accuracy: 0.44600000977516174\n",
      "Epoch  2, CIFAR-10 Batch 5:  Loss: 1.5478607416152954, Validation Accuracy: 0.4713999927043915\n",
      "Epoch  3, CIFAR-10 Batch 1:  Loss: 1.6233508586883545, Validation Accuracy: 0.47600001096725464\n",
      "Epoch  3, CIFAR-10 Batch 2:  Loss: 1.3495242595672607, Validation Accuracy: 0.48739999532699585\n",
      "Epoch  3, CIFAR-10 Batch 3:  Loss: 1.2401926517486572, Validation Accuracy: 0.49059998989105225\n",
      "Epoch  3, CIFAR-10 Batch 4:  Loss: 1.3002525568008423, Validation Accuracy: 0.5063999891281128\n",
      "Epoch  3, CIFAR-10 Batch 5:  Loss: 1.4089972972869873, Validation Accuracy: 0.5210000276565552\n",
      "Epoch  4, CIFAR-10 Batch 1:  Loss: 1.4965221881866455, Validation Accuracy: 0.5212000012397766\n",
      "Epoch  4, CIFAR-10 Batch 2:  Loss: 1.185140609741211, Validation Accuracy: 0.5288000106811523\n",
      "Epoch  4, CIFAR-10 Batch 3:  Loss: 1.1315025091171265, Validation Accuracy: 0.545799970626831\n",
      "Epoch  4, CIFAR-10 Batch 4:  Loss: 1.1863439083099365, Validation Accuracy: 0.5338000059127808\n",
      "Epoch  4, CIFAR-10 Batch 5:  Loss: 1.363121747970581, Validation Accuracy: 0.557200014591217\n",
      "Epoch  5, CIFAR-10 Batch 1:  Loss: 1.4169341325759888, Validation Accuracy: 0.5464000105857849\n",
      "Epoch  5, CIFAR-10 Batch 2:  Loss: 1.0419038534164429, Validation Accuracy: 0.5509999990463257\n",
      "Epoch  5, CIFAR-10 Batch 3:  Loss: 1.0406677722930908, Validation Accuracy: 0.5568000078201294\n",
      "Epoch  5, CIFAR-10 Batch 4:  Loss: 1.062375783920288, Validation Accuracy: 0.5655999779701233\n",
      "Epoch  5, CIFAR-10 Batch 5:  Loss: 1.4059315919876099, Validation Accuracy: 0.5523999929428101\n",
      "Epoch  6, CIFAR-10 Batch 1:  Loss: 1.2605340480804443, Validation Accuracy: 0.5544000267982483\n",
      "Epoch  6, CIFAR-10 Batch 2:  Loss: 0.9452341198921204, Validation Accuracy: 0.5573999881744385\n",
      "Epoch  6, CIFAR-10 Batch 3:  Loss: 0.994162380695343, Validation Accuracy: 0.567799985408783\n",
      "Epoch  6, CIFAR-10 Batch 4:  Loss: 1.0852439403533936, Validation Accuracy: 0.5669999718666077\n",
      "Epoch  6, CIFAR-10 Batch 5:  Loss: 1.3074225187301636, Validation Accuracy: 0.5753999948501587\n",
      "Epoch  7, CIFAR-10 Batch 1:  Loss: 1.2420520782470703, Validation Accuracy: 0.5735999941825867\n",
      "Epoch  7, CIFAR-10 Batch 2:  Loss: 1.0131855010986328, Validation Accuracy: 0.579800009727478\n",
      "Epoch  7, CIFAR-10 Batch 3:  Loss: 0.9806724786758423, Validation Accuracy: 0.574400007724762\n",
      "Epoch  7, CIFAR-10 Batch 4:  Loss: 1.0347511768341064, Validation Accuracy: 0.5906000137329102\n",
      "Epoch  7, CIFAR-10 Batch 5:  Loss: 1.2015635967254639, Validation Accuracy: 0.5817999839782715\n",
      "Epoch  8, CIFAR-10 Batch 1:  Loss: 1.2140772342681885, Validation Accuracy: 0.5802000164985657\n",
      "Epoch  8, CIFAR-10 Batch 2:  Loss: 0.9198338389396667, Validation Accuracy: 0.5889999866485596\n",
      "Epoch  8, CIFAR-10 Batch 3:  Loss: 0.9286206960678101, Validation Accuracy: 0.5870000123977661\n",
      "Epoch  8, CIFAR-10 Batch 4:  Loss: 1.036613941192627, Validation Accuracy: 0.5884000062942505\n",
      "Epoch  8, CIFAR-10 Batch 5:  Loss: 1.1912881135940552, Validation Accuracy: 0.5914000272750854\n",
      "Epoch  9, CIFAR-10 Batch 1:  Loss: 1.147469162940979, Validation Accuracy: 0.5924000144004822\n",
      "Epoch  9, CIFAR-10 Batch 2:  Loss: 0.9071823954582214, Validation Accuracy: 0.5914000272750854\n",
      "Epoch  9, CIFAR-10 Batch 3:  Loss: 0.8636199831962585, Validation Accuracy: 0.5924000144004822\n",
      "Epoch  9, CIFAR-10 Batch 4:  Loss: 0.9542714953422546, Validation Accuracy: 0.593999981880188\n",
      "Epoch  9, CIFAR-10 Batch 5:  Loss: 1.2034080028533936, Validation Accuracy: 0.5965999960899353\n",
      "Epoch 10, CIFAR-10 Batch 1:  Loss: 1.10160231590271, Validation Accuracy: 0.5896000266075134\n",
      "Epoch 10, CIFAR-10 Batch 2:  Loss: 0.9047369956970215, Validation Accuracy: 0.6015999913215637\n",
      "Epoch 10, CIFAR-10 Batch 3:  Loss: 0.8828719854354858, Validation Accuracy: 0.5914000272750854\n",
      "Epoch 10, CIFAR-10 Batch 4:  Loss: 0.9456608891487122, Validation Accuracy: 0.6007999777793884\n",
      "Epoch 10, CIFAR-10 Batch 5:  Loss: 1.1986370086669922, Validation Accuracy: 0.579200029373169\n",
      "Epoch 11, CIFAR-10 Batch 1:  Loss: 1.1077754497528076, Validation Accuracy: 0.5853999853134155\n",
      "Epoch 11, CIFAR-10 Batch 2:  Loss: 0.9366708993911743, Validation Accuracy: 0.5893999934196472\n",
      "Epoch 11, CIFAR-10 Batch 3:  Loss: 0.8823043704032898, Validation Accuracy: 0.59579998254776\n",
      "Epoch 11, CIFAR-10 Batch 4:  Loss: 0.8574449419975281, Validation Accuracy: 0.6092000007629395\n",
      "Epoch 11, CIFAR-10 Batch 5:  Loss: 1.1167609691619873, Validation Accuracy: 0.6018000245094299\n",
      "Epoch 12, CIFAR-10 Batch 1:  Loss: 1.1279410123825073, Validation Accuracy: 0.5983999967575073\n",
      "Epoch 12, CIFAR-10 Batch 2:  Loss: 0.8922792673110962, Validation Accuracy: 0.5934000015258789\n",
      "Epoch 12, CIFAR-10 Batch 3:  Loss: 0.8003448247909546, Validation Accuracy: 0.5924000144004822\n",
      "Epoch 12, CIFAR-10 Batch 4:  Loss: 0.9498046636581421, Validation Accuracy: 0.6007999777793884\n",
      "Epoch 12, CIFAR-10 Batch 5:  Loss: 1.0650341510772705, Validation Accuracy: 0.6047999858856201\n",
      "Epoch 13, CIFAR-10 Batch 1:  Loss: 1.1544585227966309, Validation Accuracy: 0.598800003528595\n",
      "Epoch 13, CIFAR-10 Batch 2:  Loss: 0.8616195917129517, Validation Accuracy: 0.6033999919891357\n",
      "Epoch 13, CIFAR-10 Batch 3:  Loss: 0.7874339818954468, Validation Accuracy: 0.604200005531311\n",
      "Epoch 13, CIFAR-10 Batch 4:  Loss: 0.8766411542892456, Validation Accuracy: 0.6075999736785889\n",
      "Epoch 13, CIFAR-10 Batch 5:  Loss: 1.1219866275787354, Validation Accuracy: 0.6037999987602234\n",
      "Epoch 14, CIFAR-10 Batch 1:  Loss: 1.0281847715377808, Validation Accuracy: 0.6079999804496765\n",
      "Epoch 14, CIFAR-10 Batch 2:  Loss: 0.9025837182998657, Validation Accuracy: 0.5974000096321106\n",
      "Epoch 14, CIFAR-10 Batch 3:  Loss: 0.7960886359214783, Validation Accuracy: 0.6029999852180481\n",
      "Epoch 14, CIFAR-10 Batch 4:  Loss: 0.7858548164367676, Validation Accuracy: 0.6068000197410583\n",
      "Epoch 14, CIFAR-10 Batch 5:  Loss: 1.03360915184021, Validation Accuracy: 0.6078000068664551\n",
      "Epoch 15, CIFAR-10 Batch 1:  Loss: 1.0049244165420532, Validation Accuracy: 0.6068000197410583\n",
      "Epoch 15, CIFAR-10 Batch 2:  Loss: 0.8565410375595093, Validation Accuracy: 0.6105999946594238\n",
      "Epoch 15, CIFAR-10 Batch 3:  Loss: 0.796125590801239, Validation Accuracy: 0.5938000082969666\n",
      "Epoch 15, CIFAR-10 Batch 4:  Loss: 0.7999534606933594, Validation Accuracy: 0.6039999723434448\n",
      "Epoch 15, CIFAR-10 Batch 5:  Loss: 1.0179609060287476, Validation Accuracy: 0.603600025177002\n",
      "Epoch 16, CIFAR-10 Batch 1:  Loss: 1.0040969848632812, Validation Accuracy: 0.6186000108718872\n",
      "Epoch 16, CIFAR-10 Batch 2:  Loss: 0.7894177436828613, Validation Accuracy: 0.6051999926567078\n",
      "Epoch 16, CIFAR-10 Batch 3:  Loss: 0.7513547539710999, Validation Accuracy: 0.5935999751091003\n",
      "Epoch 16, CIFAR-10 Batch 4:  Loss: 0.7978411912918091, Validation Accuracy: 0.6055999994277954\n",
      "Epoch 16, CIFAR-10 Batch 5:  Loss: 1.0400546789169312, Validation Accuracy: 0.6086000204086304\n",
      "Epoch 17, CIFAR-10 Batch 1:  Loss: 0.954842209815979, Validation Accuracy: 0.602400004863739\n",
      "Epoch 17, CIFAR-10 Batch 2:  Loss: 0.7106467485427856, Validation Accuracy: 0.5974000096321106\n",
      "Epoch 17, CIFAR-10 Batch 3:  Loss: 0.7570474147796631, Validation Accuracy: 0.6086000204086304\n",
      "Epoch 17, CIFAR-10 Batch 4:  Loss: 0.802779495716095, Validation Accuracy: 0.598800003528595\n",
      "Epoch 17, CIFAR-10 Batch 5:  Loss: 1.004509449005127, Validation Accuracy: 0.6155999898910522\n",
      "Epoch 18, CIFAR-10 Batch 1:  Loss: 0.9168428182601929, Validation Accuracy: 0.6115999817848206\n"
     ]
    },
    {
     "name": "stdout",
     "output_type": "stream",
     "text": [
      "Epoch 18, CIFAR-10 Batch 2:  Loss: 0.8134872317314148, Validation Accuracy: 0.6097999811172485\n",
      "Epoch 18, CIFAR-10 Batch 3:  Loss: 0.7532527446746826, Validation Accuracy: 0.6097999811172485\n",
      "Epoch 18, CIFAR-10 Batch 4:  Loss: 0.8042595982551575, Validation Accuracy: 0.6155999898910522\n",
      "Epoch 18, CIFAR-10 Batch 5:  Loss: 1.0148513317108154, Validation Accuracy: 0.6100000143051147\n",
      "Epoch 19, CIFAR-10 Batch 1:  Loss: 0.9629295468330383, Validation Accuracy: 0.602400004863739\n",
      "Epoch 19, CIFAR-10 Batch 2:  Loss: 0.7664519548416138, Validation Accuracy: 0.6014000177383423\n",
      "Epoch 19, CIFAR-10 Batch 3:  Loss: 0.7573565244674683, Validation Accuracy: 0.6079999804496765\n",
      "Epoch 19, CIFAR-10 Batch 4:  Loss: 0.7969180941581726, Validation Accuracy: 0.609000027179718\n",
      "Epoch 19, CIFAR-10 Batch 5:  Loss: 0.9908851385116577, Validation Accuracy: 0.6200000047683716\n",
      "Epoch 20, CIFAR-10 Batch 1:  Loss: 0.905015766620636, Validation Accuracy: 0.6061999797821045\n",
      "Epoch 20, CIFAR-10 Batch 2:  Loss: 0.8052008748054504, Validation Accuracy: 0.6150000095367432\n",
      "Epoch 20, CIFAR-10 Batch 3:  Loss: 0.7615647912025452, Validation Accuracy: 0.6003999710083008\n",
      "Epoch 20, CIFAR-10 Batch 4:  Loss: 0.8274679183959961, Validation Accuracy: 0.6133999824523926\n",
      "Epoch 20, CIFAR-10 Batch 5:  Loss: 0.9346358180046082, Validation Accuracy: 0.6129999756813049\n",
      "Epoch 21, CIFAR-10 Batch 1:  Loss: 0.8489079475402832, Validation Accuracy: 0.6154000163078308\n",
      "Epoch 21, CIFAR-10 Batch 2:  Loss: 0.8171793818473816, Validation Accuracy: 0.6179999709129333\n",
      "Epoch 21, CIFAR-10 Batch 3:  Loss: 0.6966869235038757, Validation Accuracy: 0.6154000163078308\n",
      "Epoch 21, CIFAR-10 Batch 4:  Loss: 0.7718402147293091, Validation Accuracy: 0.6101999878883362\n",
      "Epoch 21, CIFAR-10 Batch 5:  Loss: 0.934148907661438, Validation Accuracy: 0.6208000183105469\n",
      "Epoch 22, CIFAR-10 Batch 1:  Loss: 0.8425420522689819, Validation Accuracy: 0.6092000007629395\n",
      "Epoch 22, CIFAR-10 Batch 2:  Loss: 0.7521026730537415, Validation Accuracy: 0.6158000230789185\n",
      "Epoch 22, CIFAR-10 Batch 3:  Loss: 0.696466326713562, Validation Accuracy: 0.6159999966621399\n",
      "Epoch 22, CIFAR-10 Batch 4:  Loss: 0.7558242082595825, Validation Accuracy: 0.6227999925613403\n",
      "Epoch 22, CIFAR-10 Batch 5:  Loss: 0.9157115817070007, Validation Accuracy: 0.6111999750137329\n",
      "Epoch 23, CIFAR-10 Batch 1:  Loss: 0.8966987729072571, Validation Accuracy: 0.6097999811172485\n",
      "Epoch 23, CIFAR-10 Batch 2:  Loss: 0.7327450513839722, Validation Accuracy: 0.620199978351593\n",
      "Epoch 23, CIFAR-10 Batch 3:  Loss: 0.7146164774894714, Validation Accuracy: 0.6100000143051147\n",
      "Epoch 23, CIFAR-10 Batch 4:  Loss: 0.717060923576355, Validation Accuracy: 0.6255999803543091\n",
      "Epoch 23, CIFAR-10 Batch 5:  Loss: 0.9127181768417358, Validation Accuracy: 0.6304000020027161\n",
      "Epoch 24, CIFAR-10 Batch 1:  Loss: 0.9086090326309204, Validation Accuracy: 0.603600025177002\n",
      "Epoch 24, CIFAR-10 Batch 2:  Loss: 0.7305203080177307, Validation Accuracy: 0.6233999729156494\n",
      "Epoch 24, CIFAR-10 Batch 3:  Loss: 0.6542328596115112, Validation Accuracy: 0.6179999709129333\n",
      "Epoch 24, CIFAR-10 Batch 4:  Loss: 0.6942965388298035, Validation Accuracy: 0.6212000250816345\n",
      "Epoch 24, CIFAR-10 Batch 5:  Loss: 0.8813264966011047, Validation Accuracy: 0.6294000148773193\n",
      "Epoch 25, CIFAR-10 Batch 1:  Loss: 0.7837127447128296, Validation Accuracy: 0.621399998664856\n",
      "Epoch 25, CIFAR-10 Batch 2:  Loss: 0.7336282134056091, Validation Accuracy: 0.6186000108718872\n",
      "Epoch 25, CIFAR-10 Batch 3:  Loss: 0.6769886016845703, Validation Accuracy: 0.6115999817848206\n",
      "Epoch 25, CIFAR-10 Batch 4:  Loss: 0.7066737413406372, Validation Accuracy: 0.6248000264167786\n",
      "Epoch 25, CIFAR-10 Batch 5:  Loss: 0.8640507459640503, Validation Accuracy: 0.6215999722480774\n",
      "Epoch 26, CIFAR-10 Batch 1:  Loss: 0.8796318173408508, Validation Accuracy: 0.6097999811172485\n",
      "Epoch 26, CIFAR-10 Batch 2:  Loss: 0.6844345331192017, Validation Accuracy: 0.6200000047683716\n",
      "Epoch 26, CIFAR-10 Batch 3:  Loss: 0.6989266872406006, Validation Accuracy: 0.6155999898910522\n",
      "Epoch 26, CIFAR-10 Batch 4:  Loss: 0.7172698378562927, Validation Accuracy: 0.6230000257492065\n",
      "Epoch 26, CIFAR-10 Batch 5:  Loss: 0.8777157068252563, Validation Accuracy: 0.6284000277519226\n",
      "Epoch 27, CIFAR-10 Batch 1:  Loss: 0.8469427824020386, Validation Accuracy: 0.6055999994277954\n",
      "Epoch 27, CIFAR-10 Batch 2:  Loss: 0.7092812061309814, Validation Accuracy: 0.6287999749183655\n",
      "Epoch 27, CIFAR-10 Batch 3:  Loss: 0.6825085282325745, Validation Accuracy: 0.6161999702453613\n",
      "Epoch 27, CIFAR-10 Batch 4:  Loss: 0.6980779767036438, Validation Accuracy: 0.6237999796867371\n",
      "Epoch 27, CIFAR-10 Batch 5:  Loss: 0.8561308979988098, Validation Accuracy: 0.6205999851226807\n",
      "Epoch 28, CIFAR-10 Batch 1:  Loss: 0.8274657130241394, Validation Accuracy: 0.6237999796867371\n",
      "Epoch 28, CIFAR-10 Batch 2:  Loss: 0.7049100399017334, Validation Accuracy: 0.6227999925613403\n",
      "Epoch 28, CIFAR-10 Batch 3:  Loss: 0.6666918992996216, Validation Accuracy: 0.6129999756813049\n",
      "Epoch 28, CIFAR-10 Batch 4:  Loss: 0.7442344427108765, Validation Accuracy: 0.6241999864578247\n",
      "Epoch 28, CIFAR-10 Batch 5:  Loss: 0.8686022758483887, Validation Accuracy: 0.6259999871253967\n",
      "Epoch 29, CIFAR-10 Batch 1:  Loss: 0.8212735056877136, Validation Accuracy: 0.6118000149726868\n",
      "Epoch 29, CIFAR-10 Batch 2:  Loss: 0.7231584787368774, Validation Accuracy: 0.6173999905586243\n",
      "Epoch 29, CIFAR-10 Batch 3:  Loss: 0.6748167276382446, Validation Accuracy: 0.6129999756813049\n",
      "Epoch 29, CIFAR-10 Batch 4:  Loss: 0.7272688150405884, Validation Accuracy: 0.6074000000953674\n",
      "Epoch 29, CIFAR-10 Batch 5:  Loss: 0.8020514249801636, Validation Accuracy: 0.623199999332428\n",
      "Epoch 30, CIFAR-10 Batch 1:  Loss: 0.7775588035583496, Validation Accuracy: 0.6093999743461609\n",
      "Epoch 30, CIFAR-10 Batch 2:  Loss: 0.6799337863922119, Validation Accuracy: 0.626800000667572\n",
      "Epoch 30, CIFAR-10 Batch 3:  Loss: 0.6533724069595337, Validation Accuracy: 0.6168000102043152\n",
      "Epoch 30, CIFAR-10 Batch 4:  Loss: 0.6403567790985107, Validation Accuracy: 0.6218000054359436\n",
      "Epoch 30, CIFAR-10 Batch 5:  Loss: 0.771632969379425, Validation Accuracy: 0.6241999864578247\n",
      "Epoch 31, CIFAR-10 Batch 1:  Loss: 0.7794941663742065, Validation Accuracy: 0.6105999946594238\n",
      "Epoch 31, CIFAR-10 Batch 2:  Loss: 0.6884443163871765, Validation Accuracy: 0.6200000047683716\n",
      "Epoch 31, CIFAR-10 Batch 3:  Loss: 0.6535047888755798, Validation Accuracy: 0.620199978351593\n",
      "Epoch 31, CIFAR-10 Batch 4:  Loss: 0.6709226965904236, Validation Accuracy: 0.6230000257492065\n",
      "Epoch 31, CIFAR-10 Batch 5:  Loss: 0.813025951385498, Validation Accuracy: 0.6287999749183655\n",
      "Epoch 32, CIFAR-10 Batch 1:  Loss: 0.8160983920097351, Validation Accuracy: 0.604200005531311\n",
      "Epoch 32, CIFAR-10 Batch 2:  Loss: 0.6421281099319458, Validation Accuracy: 0.6251999735832214\n",
      "Epoch 32, CIFAR-10 Batch 3:  Loss: 0.6410056948661804, Validation Accuracy: 0.6230000257492065\n",
      "Epoch 32, CIFAR-10 Batch 4:  Loss: 0.661471962928772, Validation Accuracy: 0.6277999877929688\n",
      "Epoch 32, CIFAR-10 Batch 5:  Loss: 0.836439311504364, Validation Accuracy: 0.6245999932289124\n",
      "Epoch 33, CIFAR-10 Batch 1:  Loss: 0.9138534665107727, Validation Accuracy: 0.5978000164031982\n",
      "Epoch 33, CIFAR-10 Batch 2:  Loss: 0.679151713848114, Validation Accuracy: 0.614799976348877\n",
      "Epoch 33, CIFAR-10 Batch 3:  Loss: 0.6190036535263062, Validation Accuracy: 0.6294000148773193\n",
      "Epoch 33, CIFAR-10 Batch 4:  Loss: 0.6500096321105957, Validation Accuracy: 0.6276000142097473\n",
      "Epoch 33, CIFAR-10 Batch 5:  Loss: 0.8086444139480591, Validation Accuracy: 0.6287999749183655\n",
      "Epoch 34, CIFAR-10 Batch 1:  Loss: 0.7143346071243286, Validation Accuracy: 0.6158000230789185\n",
      "Epoch 34, CIFAR-10 Batch 2:  Loss: 0.6460357904434204, Validation Accuracy: 0.626800000667572\n",
      "Epoch 34, CIFAR-10 Batch 3:  Loss: 0.6820427179336548, Validation Accuracy: 0.620199978351593\n",
      "Epoch 34, CIFAR-10 Batch 4:  Loss: 0.644264280796051, Validation Accuracy: 0.6182000041007996\n",
      "Epoch 34, CIFAR-10 Batch 5:  Loss: 0.8506507873535156, Validation Accuracy: 0.6151999831199646\n",
      "Epoch 35, CIFAR-10 Batch 1:  Loss: 0.7514768838882446, Validation Accuracy: 0.6133999824523926\n",
      "Epoch 35, CIFAR-10 Batch 2:  Loss: 0.6363357305526733, Validation Accuracy: 0.6240000128746033\n"
     ]
    },
    {
     "name": "stdout",
     "output_type": "stream",
     "text": [
      "Epoch 35, CIFAR-10 Batch 3:  Loss: 0.6136825084686279, Validation Accuracy: 0.6262000203132629\n",
      "Epoch 35, CIFAR-10 Batch 4:  Loss: 0.6554328203201294, Validation Accuracy: 0.6194000244140625\n",
      "Epoch 35, CIFAR-10 Batch 5:  Loss: 0.8006047010421753, Validation Accuracy: 0.6284000277519226\n",
      "Epoch 36, CIFAR-10 Batch 1:  Loss: 0.6931792497634888, Validation Accuracy: 0.6115999817848206\n",
      "Epoch 36, CIFAR-10 Batch 2:  Loss: 0.6091562509536743, Validation Accuracy: 0.6272000074386597\n",
      "Epoch 36, CIFAR-10 Batch 3:  Loss: 0.6652615666389465, Validation Accuracy: 0.621999979019165\n",
      "Epoch 36, CIFAR-10 Batch 4:  Loss: 0.672370195388794, Validation Accuracy: 0.6200000047683716\n",
      "Epoch 36, CIFAR-10 Batch 5:  Loss: 0.7907419204711914, Validation Accuracy: 0.6259999871253967\n",
      "Epoch 37, CIFAR-10 Batch 1:  Loss: 0.7353780269622803, Validation Accuracy: 0.6039999723434448\n",
      "Epoch 37, CIFAR-10 Batch 2:  Loss: 0.6381785273551941, Validation Accuracy: 0.623199999332428\n",
      "Epoch 37, CIFAR-10 Batch 3:  Loss: 0.604876697063446, Validation Accuracy: 0.6251999735832214\n",
      "Epoch 37, CIFAR-10 Batch 4:  Loss: 0.6783501505851746, Validation Accuracy: 0.6128000020980835\n",
      "Epoch 37, CIFAR-10 Batch 5:  Loss: 0.776299774646759, Validation Accuracy: 0.623199999332428\n",
      "Epoch 38, CIFAR-10 Batch 1:  Loss: 0.7271938323974609, Validation Accuracy: 0.6092000007629395\n",
      "Epoch 38, CIFAR-10 Batch 2:  Loss: 0.6164640188217163, Validation Accuracy: 0.6287999749183655\n",
      "Epoch 38, CIFAR-10 Batch 3:  Loss: 0.6622986793518066, Validation Accuracy: 0.6172000169754028\n",
      "Epoch 38, CIFAR-10 Batch 4:  Loss: 0.6681231260299683, Validation Accuracy: 0.6205999851226807\n",
      "Epoch 38, CIFAR-10 Batch 5:  Loss: 0.7906946539878845, Validation Accuracy: 0.6187999844551086\n",
      "Epoch 39, CIFAR-10 Batch 1:  Loss: 0.7115899920463562, Validation Accuracy: 0.6136000156402588\n",
      "Epoch 39, CIFAR-10 Batch 2:  Loss: 0.5626384615898132, Validation Accuracy: 0.6200000047683716\n",
      "Epoch 39, CIFAR-10 Batch 3:  Loss: 0.6888329386711121, Validation Accuracy: 0.6144000291824341\n",
      "Epoch 39, CIFAR-10 Batch 4:  Loss: 0.6959000825881958, Validation Accuracy: 0.6236000061035156\n",
      "Epoch 39, CIFAR-10 Batch 5:  Loss: 0.7290325164794922, Validation Accuracy: 0.626800000667572\n",
      "Epoch 40, CIFAR-10 Batch 1:  Loss: 0.7237614393234253, Validation Accuracy: 0.6101999878883362\n",
      "Epoch 40, CIFAR-10 Batch 2:  Loss: 0.5495370030403137, Validation Accuracy: 0.6259999871253967\n",
      "Epoch 40, CIFAR-10 Batch 3:  Loss: 0.6152195930480957, Validation Accuracy: 0.6197999715805054\n",
      "Epoch 40, CIFAR-10 Batch 4:  Loss: 0.6377521753311157, Validation Accuracy: 0.6169999837875366\n",
      "Epoch 40, CIFAR-10 Batch 5:  Loss: 0.7585417628288269, Validation Accuracy: 0.6245999932289124\n"
     ]
    }
   ],
   "source": [
    "\"\"\"\n",
    "DON'T MODIFY ANYTHING IN THIS CELL\n",
    "\"\"\"\n",
    "save_model_path = './image_classification'\n",
    "\n",
    "print('Training...')\n",
    "with tf.Session() as sess:\n",
    "    # Initializing the variables\n",
    "    sess.run(tf.global_variables_initializer())\n",
    "    \n",
    "    # Training cycle\n",
    "    for epoch in range(epochs):\n",
    "        # Loop over all batches\n",
    "        n_batches = 5\n",
    "        for batch_i in range(1, n_batches + 1):\n",
    "            for batch_features, batch_labels in helper.load_preprocess_training_batch(batch_i, batch_size):\n",
    "                train_neural_network(sess, optimizer, keep_probability, batch_features, batch_labels)\n",
    "            print('Epoch {:>2}, CIFAR-10 Batch {}:  '.format(epoch + 1, batch_i), end='')\n",
    "            print_stats(sess, batch_features, batch_labels, cost, accuracy)\n",
    "            \n",
    "    # Save Model\n",
    "    saver = tf.train.Saver()\n",
    "    save_path = saver.save(sess, save_model_path)"
   ]
  },
  {
   "cell_type": "markdown",
   "metadata": {},
   "source": [
    "# Checkpoint\n",
    "The model has been saved to disk.\n",
    "## Test Model\n",
    "Test your model against the test dataset.  This will be your final accuracy. You should have an accuracy greater than 50%. If you don't, keep tweaking the model architecture and parameters."
   ]
  },
  {
   "cell_type": "code",
   "execution_count": 24,
   "metadata": {},
   "outputs": [
    {
     "name": "stdout",
     "output_type": "stream",
     "text": [
      "INFO:tensorflow:Restoring parameters from ./image_classification\n",
      "Testing Accuracy: 0.6207205414012739\n",
      "\n"
     ]
    },
    {
     "data": {
      "image/png": "[encoded data removed]",
      "text/plain": [
       "<matplotlib.figure.Figure at 0x2918738aa20>"
      ]
     },
     "metadata": {
      "image/png": {
       "height": 319,
       "width": 355
      }
     },
     "output_type": "display_data"
    }
   ],
   "source": [
    "\"\"\"\n",
    "DON'T MODIFY ANYTHING IN THIS CELL\n",
    "\"\"\"\n",
    "%matplotlib inline\n",
    "%config InlineBackend.figure_format = 'retina'\n",
    "\n",
    "import tensorflow as tf\n",
    "import pickle\n",
    "import helper\n",
    "import random\n",
    "\n",
    "# Set batch size if not already set\n",
    "try:\n",
    "    if batch_size:\n",
    "        pass\n",
    "except NameError:\n",
    "    batch_size = 64\n",
    "\n",
    "save_model_path = './image_classification'\n",
    "n_samples = 4\n",
    "top_n_predictions = 3\n",
    "\n",
    "def test_model():\n",
    "    \"\"\"\n",
    "    Test the saved model against the test dataset\n",
    "    \"\"\"\n",
    "\n",
    "    test_features, test_labels = pickle.load(open('preprocess_test.p', mode='rb'))\n",
    "    loaded_graph = tf.Graph()\n",
    "\n",
    "    with tf.Session(graph=loaded_graph) as sess:\n",
    "        # Load model\n",
    "        loader = tf.train.import_meta_graph(save_model_path + '.meta')\n",
    "        loader.restore(sess, save_model_path)\n",
    "\n",
    "        # Get Tensors from loaded model\n",
    "        loaded_x = loaded_graph.get_tensor_by_name('x:0')\n",
    "        loaded_y = loaded_graph.get_tensor_by_name('y:0')\n",
    "        loaded_keep_prob = loaded_graph.get_tensor_by_name('keep_prob:0')\n",
    "        loaded_logits = loaded_graph.get_tensor_by_name('logits:0')\n",
    "        loaded_acc = loaded_graph.get_tensor_by_name('accuracy:0')\n",
    "        \n",
    "        # Get accuracy in batches for memory limitations\n",
    "        test_batch_acc_total = 0\n",
    "        test_batch_count = 0\n",
    "        \n",
    "        for test_feature_batch, test_label_batch in helper.batch_features_labels(test_features, test_labels, batch_size):\n",
    "            test_batch_acc_total += sess.run(\n",
    "                loaded_acc,\n",
    "                feed_dict={loaded_x: test_feature_batch, loaded_y: test_label_batch, loaded_keep_prob: 1.0})\n",
    "            test_batch_count += 1\n",
    "\n",
    "        print('Testing Accuracy: {}\\n'.format(test_batch_acc_total/test_batch_count))\n",
    "\n",
    "        # Print Random Samples\n",
    "        random_test_features, random_test_labels = tuple(zip(*random.sample(list(zip(test_features, test_labels)), n_samples)))\n",
    "        random_test_predictions = sess.run(\n",
    "            tf.nn.top_k(tf.nn.softmax(loaded_logits), top_n_predictions),\n",
    "            feed_dict={loaded_x: random_test_features, loaded_y: random_test_labels, loaded_keep_prob: 1.0})\n",
    "        helper.display_image_predictions(random_test_features, random_test_labels, random_test_predictions)\n",
    "\n",
    "\n",
    "test_model()"
   ]
  },
  {
   "cell_type": "markdown",
   "metadata": {},
   "source": [
    "## Why 50-80% Accuracy?\n",
    "You might be wondering why you can't get an accuracy any higher. First things first, 50% isn't bad for a simple CNN.  Pure guessing would get you 10% accuracy. However, you might notice people are getting scores [well above 80%](http://rodrigob.github.io/are_we_there_yet/build/classification_datasets_results.html#43494641522d3130).  That's because we haven't taught you all there is to know about neural networks. We still need to cover a few more techniques.\n",
    "## Submitting This Project\n",
    "When submitting this project, make sure to run all the cells before saving the notebook.  Save the notebook file as \"dlnd_image_classification.ipynb\" and save it as a HTML file under \"File\" -> \"Download as\".  Include the \"helper.py\" and \"problem_unittests.py\" files in your submission."
   ]
  }
 ],
 "metadata": {
  "kernelspec": {
   "display_name": "Python 3",
   "language": "python",
   "name": "python3"
  },
  "language_info": {
   "codemirror_mode": {
    "name": "ipython",
    "version": 3
   },
   "file_extension": ".py",
   "mimetype": "text/x-python",
   "name": "python",
   "nbconvert_exporter": "python",
   "pygments_lexer": "ipython3",
   "version": "3.6.2"
  }
 },
 "nbformat": 4,
 "nbformat_minor": 1
}
